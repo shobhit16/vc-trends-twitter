{
 "cells": [
  {
   "cell_type": "markdown",
   "id": "2c81126b",
   "metadata": {},
   "source": [
    "# Inferring VC investment trends in 2020 using textual analysis of Twitter data\n",
    "\n",
    "Venture capitalists (VCs) are known for utilizing a variety of resources, ranging from financial statements and research reports to aggregation platforms such as Crunchbase and Angellist, for uncovering market trends to optimize their investment strategy. An often overlooked resource for performing such market analyses is social media, which can serve as a goldmine of alternate data for providing additional leverage to VCs. One of such social media platforms that is currently popular with entrepreneurs and investors is Twitter, which can serve as an incredibly rich source of textual information indicating market activity that might be relevant for accumulating market intelligence. The goal of this project is to utilize unsupervised learning techniques for performing exploratory analysis on textual data from Twitter to uncover latent market trends, create market maps, and gather market intelligence. "
   ]
  },
  {
   "cell_type": "markdown",
   "id": "1e667570",
   "metadata": {},
   "source": [
    "### Scraping:\n",
    "\n",
    "Scraping tweets (max 300k) for \"vc investment\" query during the year 2020 using *snscrape*"
   ]
  },
  {
   "cell_type": "code",
   "execution_count": 1,
   "id": "49c4c9a6",
   "metadata": {},
   "outputs": [
    {
     "name": "stdout",
     "output_type": "stream",
     "text": [
      "0\n",
      "1000\n",
      "2000\n",
      "3000\n",
      "4000\n",
      "5000\n",
      "6000\n",
      "7000\n",
      "8000\n",
      "9000\n",
      "10000\n",
      "11000\n",
      "12000\n",
      "13000\n",
      "14000\n",
      "15000\n",
      "16000\n",
      "17000\n",
      "18000\n",
      "19000\n",
      "20000\n",
      "21000\n",
      "22000\n",
      "23000\n",
      "24000\n",
      "25000\n",
      "26000\n",
      "27000\n",
      "28000\n",
      "Done scraping!\n"
     ]
    }
   ],
   "source": [
    "import snscrape.modules.twitter as sntwitter\n",
    "import pandas as pd\n",
    "\n",
    "# Creating a list to store the tweet data\n",
    "tweets_list = []\n",
    "\n",
    "# Using TwitterSearchScraper to scrape tweets and append to tweets_list\n",
    "for i,tweet in enumerate(sntwitter.TwitterSearchScraper('vc investment since:2020-01-01 until:2020-12-31').get_items()):\n",
    "    if i>300000: # Only scraping 300000 tweets\n",
    "        break\n",
    "    if i%1000 == 0:\n",
    "        print(i)\n",
    "    \n",
    "    # Only appending tweets that are in English and have more than 10 likes\n",
    "    if tweet.likeCount >= 10 and tweet.lang == \"en\":\n",
    "        tweets_list.append(tweet.content)\n",
    "    \n",
    "print(\"Done scraping!\")"
   ]
  },
  {
   "cell_type": "markdown",
   "id": "9c67f35d",
   "metadata": {},
   "source": [
    "Converting the list of tweets to a Pandas dataframe and saving to file for future analysis."
   ]
  },
  {
   "cell_type": "code",
   "execution_count": 62,
   "id": "7fff8639",
   "metadata": {},
   "outputs": [
    {
     "name": "stderr",
     "output_type": "stream",
     "text": [
      "/Library/Frameworks/Python.framework/Versions/3.9/lib/python3.9/site-packages/ipykernel/ipkernel.py:283: DeprecationWarning: `should_run_async` will not call `transform_cell` automatically in the future. Please pass the result to `transformed_cell` argument and any exception that happen during thetransform in `preprocessing_exc_tuple` in IPython 7.17 and above.\n",
      "  and should_run_async(code)\n"
     ]
    }
   ],
   "source": [
    "# Creating a dataframe from tweets_list\n",
    "tweets_df = pd.DataFrame(tweets_list, columns=[\"Text\"])\n",
    "\n",
    "# Saving dataframe to file for future analysis\n",
    "tweets_df.to_pickle(\"venture_capital_investment.pkl\")"
   ]
  },
  {
   "cell_type": "markdown",
   "id": "8bd25ab4",
   "metadata": {},
   "source": [
    "### Cleaning data:\n",
    "\n",
    "Step 1: Remove all mentions, links and numbers (words following @, http, and numbers) (Note: not removing hastags as they contain relevant information for topic modeling)"
   ]
  },
  {
   "cell_type": "code",
   "execution_count": 64,
   "id": "6e4d0c05",
   "metadata": {},
   "outputs": [
    {
     "name": "stdout",
     "output_type": "stream",
     "text": [
      "Also as an aside- I speak about this often- your fave billionaires aren’t even solo, they either came up of a shit ton of angel investment, VC funding or like Bezos had family rich enough to give him circa The romanticisation and promotion of ‘grinding solo’ makes no sense\n"
     ]
    },
    {
     "name": "stderr",
     "output_type": "stream",
     "text": [
      "/Library/Frameworks/Python.framework/Versions/3.9/lib/python3.9/site-packages/ipykernel/ipkernel.py:283: DeprecationWarning: `should_run_async` will not call `transform_cell` automatically in the future. Please pass the result to `transformed_cell` argument and any exception that happen during thetransform in `preprocessing_exc_tuple` in IPython 7.17 and above.\n",
      "  and should_run_async(code)\n"
     ]
    }
   ],
   "source": [
    "for idx,tweet in enumerate(tweets_df[\"Text\"]):\n",
    "    tweets_df[\"Text\"][idx] = ' '.join(i for i in tweet.split() if not (i.startswith('@') or i.startswith('http') or i.startswith('$') or i.isdigit()))\n",
    "    \n",
    "print(tweets_df[\"Text\"][0])"
   ]
  },
  {
   "cell_type": "markdown",
   "id": "60802a28",
   "metadata": {},
   "source": [
    "Step 2: Remove all stop words that don't contribute to topic modeling and tokenizing the tweets"
   ]
  },
  {
   "cell_type": "code",
   "execution_count": 65,
   "id": "3a09ed9d",
   "metadata": {
    "scrolled": false
   },
   "outputs": [
    {
     "name": "stderr",
     "output_type": "stream",
     "text": [
      "/Library/Frameworks/Python.framework/Versions/3.9/lib/python3.9/site-packages/ipykernel/ipkernel.py:283: DeprecationWarning: `should_run_async` will not call `transform_cell` automatically in the future. Please pass the result to `transformed_cell` argument and any exception that happen during thetransform in `preprocessing_exc_tuple` in IPython 7.17 and above.\n",
      "  and should_run_async(code)\n",
      "[nltk_data] Downloading package stopwords to\n",
      "[nltk_data]     /Users/Shobhit/nltk_data...\n",
      "[nltk_data]   Package stopwords is already up-to-date!\n",
      "[nltk_data] Downloading package punkt to /Users/Shobhit/nltk_data...\n",
      "[nltk_data]   Package punkt is already up-to-date!\n"
     ]
    },
    {
     "name": "stdout",
     "output_type": "stream",
     "text": [
      "['also', 'aside-', 'speak', 'often-', 'fave', 'billionaires', '’', 'even', 'solo', 'either', 'came', 'shit', 'ton', 'angel', 'investment', 'vc', 'funding', 'like', 'bezos', 'family', 'rich', 'enough', 'give', 'circa', 'romanticisation', 'promotion', '‘', 'grinding', 'solo', '’', 'makes', 'sense']\n"
     ]
    }
   ],
   "source": [
    "import string\n",
    "import nltk\n",
    "\n",
    "nltk.download('stopwords')\n",
    "nltk.download('punkt')\n",
    "stop_words = nltk.corpus.stopwords.words('english')\n",
    "\n",
    "# Adding punctuations to list of stopwords\n",
    "stop_words += list(string.punctuation)\n",
    "\n",
    "# Defining a function for converting to lowercase, tokenizing, and removing stopwords\n",
    "def tokenize_and_removestopwords(text):\n",
    "    tokens = nltk.word_tokenize(text)\n",
    "    tokens = [token.lower() for token in tokens if token.lower() not in stop_words]\n",
    "    return tokens\n",
    "  \n",
    "# Applying tokenizing to all tweets\n",
    "for idx,tweet in enumerate(tweets_df[\"Text\"]):\n",
    "     tweets_df[\"Text\"][idx] = tokenize_and_removestopwords(tweet)"
   ]
  },
  {
   "cell_type": "markdown",
   "id": "198347ef",
   "metadata": {},
   "source": [
    "Step 3: Only select nouns"
   ]
  },
  {
   "cell_type": "code",
   "execution_count": 73,
   "id": "1170769c",
   "metadata": {},
   "outputs": [
    {
     "name": "stderr",
     "output_type": "stream",
     "text": [
      "/Library/Frameworks/Python.framework/Versions/3.9/lib/python3.9/site-packages/ipykernel/ipkernel.py:283: DeprecationWarning: `should_run_async` will not call `transform_cell` automatically in the future. Please pass the result to `transformed_cell` argument and any exception that happen during thetransform in `preprocessing_exc_tuple` in IPython 7.17 and above.\n",
      "  and should_run_async(code)\n",
      "[nltk_data] Downloading package averaged_perceptron_tagger to\n",
      "[nltk_data]     /Users/Shobhit/nltk_data...\n",
      "[nltk_data]   Package averaged_perceptron_tagger is already up-to-\n",
      "[nltk_data]       date!\n"
     ]
    },
    {
     "name": "stdout",
     "output_type": "stream",
     "text": [
      "['billionaire', 'ton', 'family', 'romanticisation', 'promotion', 'sense']\n"
     ]
    }
   ],
   "source": [
    "nltk.download('averaged_perceptron_tagger')\n",
    "\n",
    "# Selecting only nouns from all tweets\n",
    "for idx,tweet in enumerate(tweets_df[\"Text\"]):\n",
    "    updated_tweet = []\n",
    "    tweet_pos = nltk.pos_tag(tweet)\n",
    "    [updated_tweet.append(token[0]) for token in tweet_pos if (token[1] == \"NN\" or token[1] == \"NNS\")]\n",
    "    tweets_df[\"Text\"][idx] = updated_tweet"
   ]
  },
  {
   "cell_type": "markdown",
   "id": "a89f102c",
   "metadata": {},
   "source": [
    "Step 4: Lemmatizing (reducing words to their base meaning)"
   ]
  },
  {
   "cell_type": "code",
   "execution_count": 74,
   "id": "1226eb58",
   "metadata": {},
   "outputs": [
    {
     "name": "stdout",
     "output_type": "stream",
     "text": [
      "['billionaire', 'ton', 'family', 'romanticisation', 'promotion', 'sense']\n"
     ]
    },
    {
     "name": "stderr",
     "output_type": "stream",
     "text": [
      "/Library/Frameworks/Python.framework/Versions/3.9/lib/python3.9/site-packages/ipykernel/ipkernel.py:283: DeprecationWarning: `should_run_async` will not call `transform_cell` automatically in the future. Please pass the result to `transformed_cell` argument and any exception that happen during thetransform in `preprocessing_exc_tuple` in IPython 7.17 and above.\n",
      "  and should_run_async(code)\n",
      "[nltk_data] Downloading package wordnet to /Users/Shobhit/nltk_data...\n",
      "[nltk_data]   Package wordnet is already up-to-date!\n"
     ]
    }
   ],
   "source": [
    "nltk.download('wordnet')\n",
    "lemmatizer = nltk.stem.WordNetLemmatizer()\n",
    "\n",
    "def lemmatize_text(text):\n",
    "    lemmatized = []\n",
    "    for word in text:\n",
    "        lemmatized.append(lemmatizer.lemmatize(word))\n",
    "    return lemmatized\n",
    "\n",
    "# Applying lemmatizing to all tweets\n",
    "for idx,tweet in enumerate(tweets_df[\"Text\"]):\n",
    "     tweets_df[\"Text\"][idx] = lemmatize_text(tweet)"
   ]
  },
  {
   "cell_type": "markdown",
   "id": "6f68e0f3",
   "metadata": {},
   "source": [
    "Generating a frequency table that will be used to append the list of stopwords in a separate list called *irrelevant_words*"
   ]
  },
  {
   "cell_type": "code",
   "execution_count": 68,
   "id": "99c68a8a",
   "metadata": {},
   "outputs": [
    {
     "name": "stderr",
     "output_type": "stream",
     "text": [
      "/Library/Frameworks/Python.framework/Versions/3.9/lib/python3.9/site-packages/ipykernel/ipkernel.py:283: DeprecationWarning: `should_run_async` will not call `transform_cell` automatically in the future. Please pass the result to `transformed_cell` argument and any exception that happen during thetransform in `preprocessing_exc_tuple` in IPython 7.17 and above.\n",
      "  and should_run_async(code)\n"
     ]
    },
    {
     "name": "stdout",
     "output_type": "stream",
     "text": [
      "['investment', 'vc', 'startup', 'fund', 'investor', 'company', 'founder', 'amp', 'firm', 'year', 'venture', 'capital', 'business', 'funding', 'time', 'tech', 'team', 'stage', 'opportunity', 'today', 'market', 'innovation', 'growth', 'deal', '’', 'partner', 'people', 'industry', 'report', 'portfolio', 'world', 'money', 'woman', 'round', 'information', 'vcs', 'seed', 'fintech', 'series', 'search', 'equity', 'traveltech', 'entrepreneur', 'announce', 'impact', 'data', 'return', 'businessangels', 'share', 'strategy']\n"
     ]
    },
    {
     "data": {
      "image/png": "[encoded data removed]",
      "text/plain": [
       "<Figure size 432x288 with 1 Axes>"
      ]
     },
     "metadata": {
      "needs_background": "light"
     },
     "output_type": "display_data"
    }
   ],
   "source": [
    "# Iterating through all tweets to construct a frequency table\n",
    "words_list = [token for tweet in tweets_df[\"Text\"] for token in tweet]\n",
    "\n",
    "word_freq = nltk.probability.FreqDist(words_list)\n",
    "most_common = word_freq.most_common(50)\n",
    "most_common_terms = [term[0] for term in most_common]\n",
    "most_common_terms_freq = [term[1] for term in most_common]\n",
    "print(most_common_terms)\n",
    "\n",
    "# Construct a bar plot to visualize frequencies of top 30 words\n",
    "import matplotlib.pyplot as plt\n",
    "plt.bar(x=list(range(1,31)), height=most_common_terms_freq[0:30], tick_label=most_common_terms[0:30])\n",
    "plt.xticks(rotation = 90)\n",
    "plt.show()"
   ]
  },
  {
   "cell_type": "markdown",
   "id": "439faad0",
   "metadata": {},
   "source": [
    "Removing additional stopwords (stored in *irrelevant words*) based on the top 30 frequent words in the frequency table"
   ]
  },
  {
   "cell_type": "code",
   "execution_count": 78,
   "id": "9ec3ee79",
   "metadata": {},
   "outputs": [
    {
     "name": "stdout",
     "output_type": "stream",
     "text": [
      "['investment', 'vc', 'startup', 'fund', 'investor', 'company', 'founder', 'amp', 'firm', 'year', 'venture', 'capital', 'business', 'funding', 'time', 'tech', 'team', 'stage', 'opportunity', 'today', 'market', 'innovation', 'growth', 'deal', '’', 'partner', 'people', 'industry', 'report', 'portfolio', 'round', 'money', 'seed', 'share', 'post', 'way', 'entrepreneur', 'bn', 'part', 'series', 'return', 'information', 'woman', 'impact', 'world', 'insight', 'vcs', 'member']\n"
     ]
    },
    {
     "name": "stderr",
     "output_type": "stream",
     "text": [
      "/Library/Frameworks/Python.framework/Versions/3.9/lib/python3.9/site-packages/ipykernel/ipkernel.py:283: DeprecationWarning: `should_run_async` will not call `transform_cell` automatically in the future. Please pass the result to `transformed_cell` argument and any exception that happen during thetransform in `preprocessing_exc_tuple` in IPython 7.17 and above.\n",
      "  and should_run_async(code)\n"
     ]
    }
   ],
   "source": [
    "# Removing additional words from the tweets database\n",
    "irrelevant_words = most_common_terms[0:30]\n",
    "irrelevant_words.extend([\"round\", \"money\", \"seed\", \"share\", \"post\", \"way\", \"entrepreneur\", \"bn\", \"part\", \"series\", \"return\", \"information\", \"woman\", \"impact\", \"world\", \"insight\", \"vcs\", \"member\"])\n",
    "\n",
    "# Applying filtering to all tweets\n",
    "for idx,tweet in enumerate(tweets_df[\"Text\"]):\n",
    "    tweets_df[\"Text\"][idx] = [token for token in tweet if token not in irrelevant_words]"
   ]
  },
  {
   "cell_type": "markdown",
   "id": "55a24d60",
   "metadata": {},
   "source": [
    "Creating bag of words for LDA topic modeling"
   ]
  },
  {
   "cell_type": "code",
   "execution_count": 79,
   "id": "220c5f29",
   "metadata": {},
   "outputs": [
    {
     "name": "stderr",
     "output_type": "stream",
     "text": [
      "/Library/Frameworks/Python.framework/Versions/3.9/lib/python3.9/site-packages/ipykernel/ipkernel.py:283: DeprecationWarning: `should_run_async` will not call `transform_cell` automatically in the future. Please pass the result to `transformed_cell` argument and any exception that happen during thetransform in `preprocessing_exc_tuple` in IPython 7.17 and above.\n",
      "  and should_run_async(code)\n"
     ]
    }
   ],
   "source": [
    "from gensim.corpora import Dictionary\n",
    "\n",
    "# Creating a dictionary from tweets corpus(used to give a unique index to each word in the corpus)\n",
    "text_dict = Dictionary(tweets_df[\"Text\"])\n",
    "\n",
    "# Creating bag of words (a frequency table for each tweet using the indices in the dictionary)\n",
    "tweets_bow = [text_dict.doc2bow(tweet) for tweet in tweets_df[\"Text\"]]"
   ]
  },
  {
   "cell_type": "markdown",
   "id": "2fb76c24",
   "metadata": {},
   "source": [
    "### Modeling:\n",
    "\n",
    "Fitting LDA models to the tweets data with increasing number of topics and computing coherence scores to find the optimum parameters."
   ]
  },
  {
   "cell_type": "code",
   "execution_count": 92,
   "id": "6bb5f816",
   "metadata": {},
   "outputs": [
    {
     "name": "stderr",
     "output_type": "stream",
     "text": [
      "/Library/Frameworks/Python.framework/Versions/3.9/lib/python3.9/site-packages/ipykernel/ipkernel.py:283: DeprecationWarning: `should_run_async` will not call `transform_cell` automatically in the future. Please pass the result to `transformed_cell` argument and any exception that happen during thetransform in `preprocessing_exc_tuple` in IPython 7.17 and above.\n",
      "  and should_run_async(code)\n"
     ]
    },
    {
     "name": "stdout",
     "output_type": "stream",
     "text": [
      "3\n",
      "4\n",
      "5\n",
      "6\n",
      "7\n",
      "8\n",
      "9\n",
      "10\n",
      "11\n",
      "Done finding coherence scores!\n"
     ]
    }
   ],
   "source": [
    "from gensim.models.ldamodel import LdaModel\n",
    "from gensim.models.coherencemodel import CoherenceModel\n",
    "\n",
    "coherence = []\n",
    "\n",
    "for num_topics_ in range(3,12):\n",
    "    print(num_topics_)\n",
    "    tweets_lda_ = LdaModel(tweets_bow, num_topics = num_topics_, id2word = text_dict, random_state = 1, passes=50)\n",
    "    cm = CoherenceModel(model=tweets_lda_, texts=tweets_df[\"Text\"], dictionary=text_dict, coherence='c_v')                           \n",
    "    coherence.append((num_topics_, cm.get_coherence()))\n",
    "\n",
    "print(\"Done finding coherence scores!\")"
   ]
  },
  {
   "cell_type": "markdown",
   "id": "e030fbf7",
   "metadata": {},
   "source": [
    "Plotting coherence scores against number of topics."
   ]
  },
  {
   "cell_type": "code",
   "execution_count": 94,
   "id": "b59d0b60",
   "metadata": {},
   "outputs": [
    {
     "name": "stderr",
     "output_type": "stream",
     "text": [
      "/Library/Frameworks/Python.framework/Versions/3.9/lib/python3.9/site-packages/ipykernel/ipkernel.py:283: DeprecationWarning: `should_run_async` will not call `transform_cell` automatically in the future. Please pass the result to `transformed_cell` argument and any exception that happen during thetransform in `preprocessing_exc_tuple` in IPython 7.17 and above.\n",
      "  and should_run_async(code)\n"
     ]
    },
    {
     "data": {
      "image/png": "[encoded data removed]",
      "text/plain": [
       "<Figure size 432x288 with 1 Axes>"
      ]
     },
     "metadata": {
      "needs_background": "light"
     },
     "output_type": "display_data"
    }
   ],
   "source": [
    "x = [i[0] for i in coherence]\n",
    "y = [i[1] for i in coherence]\n",
    "plt.plot(x, y)\n",
    "plt.ylabel('Coherence Score')\n",
    "plt.xlabel('No. of topics')\n",
    "plt.show()"
   ]
  },
  {
   "cell_type": "markdown",
   "id": "a9dd5225",
   "metadata": {},
   "source": [
    "Fitting the model with optimum number of topics (topics leading to maximum coherence score)."
   ]
  },
  {
   "cell_type": "code",
   "execution_count": 90,
   "id": "c44855ef",
   "metadata": {},
   "outputs": [
    {
     "name": "stderr",
     "output_type": "stream",
     "text": [
      "/Library/Frameworks/Python.framework/Versions/3.9/lib/python3.9/site-packages/ipykernel/ipkernel.py:283: DeprecationWarning: `should_run_async` will not call `transform_cell` automatically in the future. Please pass the result to `transformed_cell` argument and any exception that happen during thetransform in `preprocessing_exc_tuple` in IPython 7.17 and above.\n",
      "  and should_run_async(code)\n"
     ]
    },
    {
     "name": "stdout",
     "output_type": "stream",
     "text": [
      "Done fitting!\n"
     ]
    }
   ],
   "source": [
    "tweets_lda = LdaModel(tweets_bow, num_topics = 3, id2word = text_dict, random_state = 1, passes=50)\n",
    "print(\"Done fitting!\")"
   ]
  },
  {
   "cell_type": "markdown",
   "id": "1fd1a15b",
   "metadata": {},
   "source": [
    "Visualizing the topic modeling output using *pyLDAvis*."
   ]
  },
  {
   "cell_type": "code",
   "execution_count": 91,
   "id": "97c7b04f",
   "metadata": {},
   "outputs": [
    {
     "name": "stderr",
     "output_type": "stream",
     "text": [
      "/Library/Frameworks/Python.framework/Versions/3.9/lib/python3.9/site-packages/ipykernel/ipkernel.py:283: DeprecationWarning: `should_run_async` will not call `transform_cell` automatically in the future. Please pass the result to `transformed_cell` argument and any exception that happen during thetransform in `preprocessing_exc_tuple` in IPython 7.17 and above.\n",
      "  and should_run_async(code)\n"
     ]
    },
    {
     "data": {
      "text/html": [
       "\n",
       "<link rel=\"stylesheet\" type=\"text/css\" href=\"https://cdn.jsdelivr.net/gh/bmabey/pyLDAvis@3.3.1/pyLDAvis/js/ldavis.v1.0.0.css\">\n",
       "\n",
       "\n",
       "<div id=\"ldavis_el375031407247582562088898397851\"></div>\n",
       "<script type=\"text/javascript\">\n",
       "\n",
       "var ldavis_el375031407247582562088898397851_data = {\"mdsDat\": {\"x\": [0.0996681362621591, -0.13791456653083198, 0.038246430268672825], \"y\": [0.09526185808796707, 0.03321476346169678, -0.1284766215496639], \"topics\": [1, 2, 3], \"cluster\": [1, 1, 1], \"Freq\": [37.194974577926295, 31.524428735828586, 31.280596686245122]}, \"tinfo\": {\"Term\": [\"search\", \"traveltech\", \"businessangels\", \"pe\", \"ecosystem\", \"thanks\", \"bank\", \"asset\", \"equity\", \"state\", \"dollar\", \"something\", \"strategy\", \"term\", \"energy\", \"class\", \"model\", \"product\", \"technology\", \"stock\", \"fintech\", \"data\", \"family\", \"value\", \"access\", \"question\", \"china\", \"revenue\", \"leader\", \"platform\", \"search\", \"traveltech\", \"businessangels\", \"family\", \"access\", \"question\", \"google\", \"issue\", \"security\", \"meet\", \"vision\", \"pm\", \"law\", \"others\", \"competition\", \"silicon\", \"voice\", \"anyone\", \"covid\", \"expansion\", \"ji\", \"vc/pe\", \"exporter\", \"announces\", \"valley\", \"bit\", \"email\", \"intelligentassistant\", \"environment\", \"pichai\", \"model\", \"decade\", \"strategy\", \"technology\", \"network\", \"management\", \"day\", \"thesis\", \"diversity\", \"gt\", \"trade\", \"check\", \"power\", \"record\", \"data\", \"join\", \"risk\", \"office\", \"work\", \"decision\", \"news\", \"board\", \"help\", \"announce\", \"crypto\", \"value\", \"asset\", \"bank\", \"energy\", \"something\", \"class\", \"stock\", \"china\", \"revenue\", \"goal\", \"discussion\", \"galaxy\", \"look\", \"twitter\", \"app\", \"loan\", \"diligence\", \"tweet\", \"please\", \"congratulation\", \"account\", \"tomorrow\", \"anything\", \"marketing\", \"response\", \"style\", \"ccp\", \"gdp\", \"ad\", \"sheet\", \"commitment\", \"approach\", \"operation\", \"product\", \"equity\", \"term\", \"platform\", \"game\", \"job\", \"employee\", \"month\", \"space\", \"case\", \"support\", \"pe/vc\", \"research\", \"blockchain\", \"news\", \"community\", \"pitch\", \"lot\", \"finance\", \"customer\", \"brand\", \"announce\", \"pe\", \"state\", \"dollar\", \"thanks\", \"leader\", \"insurtech\", \"level\", \"city\", \"artificialintelligence\", \"solution\", \"episode\", \"\\ud83d\\udc49\", \"ai\", \"period\", \"example\", \"sign\", \"culture\", \"ability\", \"fact\", \"hour\", \"b2b\", \"saas\", \"scene\", \"towards\", \"summit\", \"finlab\", \"scout\", \"simulation\", \"fellowship\", \"president\", \"ecosystem\", \"building\", \"everyone\", \"europe\", \"talk\", \"fintech\", \"education\", \"thing\", \"value\", \"activity\", \"sector\", \"learn\", \"number\", \"trend\", \"manager\", \"data\", \"lot\", \"announce\", \"journey\", \"work\", \"week\", \"group\", \"record\", \"support\"], \"Freq\": [44.0, 44.0, 39.0, 26.0, 33.0, 25.0, 24.0, 23.0, 43.0, 20.0, 18.0, 18.0, 39.0, 35.0, 18.0, 18.0, 23.0, 28.0, 33.0, 15.0, 30.0, 40.0, 16.0, 31.0, 16.0, 16.0, 12.0, 12.0, 12.0, 25.0, 44.274163633670156, 43.502322826816616, 38.868787896294194, 16.43204894763306, 15.653335834105098, 15.645561389578566, 14.892670200854099, 13.34309210078802, 11.792227391554853, 11.05295234419192, 10.291268381512051, 10.287114768804498, 10.285035600833307, 10.973189188361204, 8.732332608605168, 8.723348071315757, 8.712567760144823, 9.423191665042419, 7.962683382711723, 7.9587130315154875, 7.958448530365132, 7.934425213384057, 7.204155013220295, 7.196433468923834, 7.191888772372541, 7.183751111087751, 7.160468869651157, 6.434155323302629, 6.391231509834695, 5.662358442532991, 21.86885875743489, 16.591747185042223, 31.905269889462414, 26.64052563514282, 22.139114697104954, 14.56548322251082, 27.382815995619808, 25.943882505335463, 11.735823465888425, 20.811375601136298, 11.623766608893185, 15.006462374325066, 11.399938178286302, 18.582592554247043, 22.378340873250412, 18.41255232185896, 12.992059399093193, 14.032273464214443, 16.450195615841405, 13.232186768443793, 15.460264164049777, 12.177739707492501, 12.673997710437195, 13.874130115710583, 12.039329089452158, 12.058314604165918, 22.973859972322074, 23.70875611905651, 17.678059490294025, 18.410422440012386, 17.624673404000752, 14.610087290491604, 12.366788412203517, 12.35062607081176, 11.588902374894436, 10.81560875796595, 10.089808581933044, 10.073461294741442, 9.307469434066627, 8.583469877530923, 8.582116010225556, 8.572943178931883, 9.978609719617706, 7.066012808096489, 7.77268670615309, 7.062855118769244, 7.050468553966556, 7.032256596784295, 6.294474575004207, 6.292539449470752, 6.289016272015239, 5.559892676003277, 5.559469542430902, 5.554874319841216, 5.544595016273139, 4.8014643779741215, 10.88473525302536, 8.1538944267764, 22.740325468142217, 32.14334302644888, 26.38617402997846, 17.8069050641869, 13.491748060912341, 13.928322629338966, 9.28678592846824, 17.862862777792323, 16.014511251604436, 10.591007696360485, 15.065977886481392, 10.156313009916712, 12.206850326894937, 14.771992526580366, 14.939402902581435, 12.965220178848817, 11.830881936636102, 11.347155796822705, 10.555143423182512, 10.534808992773444, 10.265038722553586, 10.512909328430613, 25.617596553395718, 19.71043926836846, 18.223097817403563, 24.61519150021977, 12.21032946374212, 10.677820210439313, 9.96084897490449, 9.239697403851208, 9.213825718846612, 11.284617122452449, 7.698081501736521, 6.984088616231859, 6.952847321236905, 6.2397847232449974, 5.488374577652164, 5.482296328497519, 5.480436150691271, 5.4780202631367985, 5.477192458193766, 5.476264553996586, 5.473383919904998, 5.47174697932427, 5.469455024179695, 4.743224607636195, 4.742262939801703, 4.736213290433958, 4.735819248925567, 4.733891941063958, 4.725136036860858, 4.721603963178784, 29.061555880910007, 9.905976311545393, 14.12856642627253, 14.07489257064763, 15.097485895620448, 20.710032009165975, 10.037732352036766, 20.16843943352934, 19.512064790926118, 13.994033028697814, 17.690830361173177, 9.274676532106207, 13.962260254329646, 13.574450321728063, 11.755802583812468, 17.743657345330444, 13.958508915614676, 17.366381667570135, 10.551232786991479, 13.196097385327878, 11.719956723126712, 11.212865023753038, 10.935632989443834, 10.728844613583394], \"Total\": [44.0, 44.0, 39.0, 26.0, 33.0, 25.0, 24.0, 23.0, 43.0, 20.0, 18.0, 18.0, 39.0, 35.0, 18.0, 18.0, 23.0, 28.0, 33.0, 15.0, 30.0, 40.0, 16.0, 31.0, 16.0, 16.0, 12.0, 12.0, 12.0, 25.0, 44.7783411011664, 44.00610217251637, 39.372530716484356, 16.97546326576901, 16.202957365176168, 16.202898845962892, 15.431204539612047, 13.886690316422978, 12.342174542957828, 11.570615287579894, 10.79869116504334, 10.798576551813682, 10.798519631329064, 11.567976634476294, 9.253686477327465, 9.25359260709334, 9.253222362628913, 10.023515346832259, 8.481507970664667, 8.481271659977235, 8.48134452551239, 8.48081481070076, 7.709749045262636, 7.709509425983563, 7.709397403152029, 7.709027590751664, 7.7083318031240555, 6.937554495522853, 6.935958412470981, 6.165337377692694, 23.898470434166242, 19.231155811373508, 39.167520562390756, 33.01627458437449, 28.39184740005822, 17.700156764946474, 37.611851748861525, 35.29155299356919, 13.83899712096535, 29.187185682955597, 13.855603292371844, 19.93170010424928, 13.851054416233147, 29.781174161141003, 40.38672964148469, 30.603503482716498, 18.373440055052857, 22.152496302464474, 38.05712037801518, 21.417869799897527, 34.35517608530211, 16.89771668194017, 20.625885508257262, 41.75342111171133, 20.647547723528348, 31.838232328802206, 23.507803806449942, 24.265614171185934, 18.200117995597417, 18.95787212704204, 18.19946674557946, 15.167462637028736, 12.891896230905278, 12.891618038899292, 12.13363886283713, 11.375455808594076, 10.616857007531005, 10.616778983791447, 9.859191268296362, 9.100586279481158, 9.10074646630566, 9.10051905032882, 10.615630391713653, 7.583976933507101, 8.342468425583474, 7.583846332973052, 7.583992419627908, 7.584199632966507, 6.825910407470359, 6.825760552684918, 6.8258375177440636, 6.067574042725846, 6.067539844926765, 6.06755695461694, 6.067639230955032, 5.30927651784672, 12.146629667598724, 9.10788599269843, 28.882604222406876, 43.41421985438555, 35.5536269533806, 25.145807696270914, 18.16604417239584, 19.029839820155345, 11.403404729031218, 31.852198855872068, 27.370362351968783, 15.205570726561216, 29.514269322042725, 14.366888840887885, 21.13697608478582, 32.65425914112586, 34.35517608530211, 27.331896654233013, 27.30049075775467, 27.94054653042292, 18.241039072554134, 18.330768094464993, 17.36531388013193, 41.75342111171133, 26.246744367228143, 20.248661730957743, 18.749371884251694, 25.50105856139195, 12.752846523758203, 11.254121180449259, 10.504364116559902, 9.754436435531321, 9.754702175451026, 12.0080537094005, 8.255753959205313, 7.505877741008539, 7.506157147161352, 6.756111077745253, 6.006640926756897, 6.006773471143914, 6.006825028634343, 6.006792833695867, 6.0067162663652836, 6.0068898491323335, 6.0066090240882275, 6.00679438694214, 6.006639468564488, 5.256999933289128, 5.25701194460943, 5.257014019099467, 5.257147729183852, 5.257014728099654, 5.2573675989736675, 5.2574955835541894, 33.09363663006099, 11.263319689773237, 16.556193570248656, 18.101999448085735, 20.366135093775984, 30.257295845310512, 12.818372956545012, 32.512010069368756, 31.838232328802206, 21.19331754490412, 31.075666877961076, 12.786772206339855, 24.941671729704723, 24.920954341843437, 20.488642407315858, 40.38672964148469, 27.94054653042292, 41.75342111171133, 18.208143627228033, 38.05712037801518, 28.0791558809929, 25.01148472113561, 29.781174161141003, 29.514269322042725], \"Category\": [\"Default\", \"Default\", \"Default\", \"Default\", \"Default\", \"Default\", \"Default\", \"Default\", \"Default\", \"Default\", \"Default\", \"Default\", \"Default\", \"Default\", \"Default\", \"Default\", \"Default\", \"Default\", \"Default\", \"Default\", \"Default\", \"Default\", \"Default\", \"Default\", \"Default\", \"Default\", \"Default\", \"Default\", \"Default\", \"Default\", \"Topic1\", \"Topic1\", \"Topic1\", \"Topic1\", \"Topic1\", \"Topic1\", \"Topic1\", \"Topic1\", \"Topic1\", \"Topic1\", \"Topic1\", \"Topic1\", \"Topic1\", \"Topic1\", \"Topic1\", \"Topic1\", \"Topic1\", \"Topic1\", \"Topic1\", \"Topic1\", \"Topic1\", \"Topic1\", \"Topic1\", \"Topic1\", \"Topic1\", \"Topic1\", \"Topic1\", \"Topic1\", \"Topic1\", \"Topic1\", \"Topic1\", \"Topic1\", \"Topic1\", \"Topic1\", \"Topic1\", \"Topic1\", \"Topic1\", \"Topic1\", \"Topic1\", \"Topic1\", \"Topic1\", \"Topic1\", \"Topic1\", \"Topic1\", \"Topic1\", \"Topic1\", \"Topic1\", \"Topic1\", \"Topic1\", \"Topic1\", \"Topic1\", \"Topic1\", \"Topic1\", \"Topic1\", \"Topic1\", \"Topic1\", \"Topic2\", \"Topic2\", \"Topic2\", \"Topic2\", \"Topic2\", \"Topic2\", \"Topic2\", \"Topic2\", \"Topic2\", \"Topic2\", \"Topic2\", \"Topic2\", \"Topic2\", \"Topic2\", \"Topic2\", \"Topic2\", \"Topic2\", \"Topic2\", \"Topic2\", \"Topic2\", \"Topic2\", \"Topic2\", \"Topic2\", \"Topic2\", \"Topic2\", \"Topic2\", \"Topic2\", \"Topic2\", \"Topic2\", \"Topic2\", \"Topic2\", \"Topic2\", \"Topic2\", \"Topic2\", \"Topic2\", \"Topic2\", \"Topic2\", \"Topic2\", \"Topic2\", \"Topic2\", \"Topic2\", \"Topic2\", \"Topic2\", \"Topic2\", \"Topic2\", \"Topic2\", \"Topic2\", \"Topic2\", \"Topic2\", \"Topic2\", \"Topic2\", \"Topic2\", \"Topic2\", \"Topic2\", \"Topic3\", \"Topic3\", \"Topic3\", \"Topic3\", \"Topic3\", \"Topic3\", \"Topic3\", \"Topic3\", \"Topic3\", \"Topic3\", \"Topic3\", \"Topic3\", \"Topic3\", \"Topic3\", \"Topic3\", \"Topic3\", \"Topic3\", \"Topic3\", \"Topic3\", \"Topic3\", \"Topic3\", \"Topic3\", \"Topic3\", \"Topic3\", \"Topic3\", \"Topic3\", \"Topic3\", \"Topic3\", \"Topic3\", \"Topic3\", \"Topic3\", \"Topic3\", \"Topic3\", \"Topic3\", \"Topic3\", \"Topic3\", \"Topic3\", \"Topic3\", \"Topic3\", \"Topic3\", \"Topic3\", \"Topic3\", \"Topic3\", \"Topic3\", \"Topic3\", \"Topic3\", \"Topic3\", \"Topic3\", \"Topic3\", \"Topic3\", \"Topic3\", \"Topic3\", \"Topic3\", \"Topic3\"], \"logprob\": [30.0, 29.0, 28.0, 27.0, 26.0, 25.0, 24.0, 23.0, 22.0, 21.0, 20.0, 19.0, 18.0, 17.0, 16.0, 15.0, 14.0, 13.0, 12.0, 11.0, 10.0, 9.0, 8.0, 7.0, 6.0, 5.0, 4.0, 3.0, 2.0, 1.0, -4.5179, -4.5354, -4.6481, -5.509, -5.5576, -5.5581, -5.6074, -5.7173, -5.8408, -5.9056, -5.977, -5.9774, -5.9776, -5.9128, -6.1412, -6.1423, -6.1435, -6.0651, -6.2335, -6.234, -6.234, -6.237, -6.3336, -6.3347, -6.3353, -6.3364, -6.3397, -6.4466, -6.4533, -6.5744, -5.2232, -5.4993, -4.8455, -5.0258, -5.2109, -5.6296, -4.9983, -5.0523, -5.8456, -5.2728, -5.8552, -5.5998, -5.8746, -5.386, -5.2002, -5.3952, -5.7439, -5.6669, -5.5079, -5.7256, -5.57, -5.8086, -5.7687, -5.6782, -5.8201, -5.8185, -5.0085, -4.977, -5.2705, -5.2299, -5.2735, -5.4611, -5.6278, -5.6291, -5.6928, -5.7619, -5.8313, -5.8329, -5.912, -5.993, -5.9932, -5.9942, -5.8424, -6.1875, -6.0922, -6.188, -6.1898, -6.1923, -6.3032, -6.3035, -6.304, -6.4273, -6.4273, -6.4282, -6.43, -6.5739, -5.7555, -6.0443, -5.0187, -4.6726, -4.87, -5.2633, -5.5408, -5.5089, -5.9143, -5.2601, -5.3693, -5.7828, -5.4304, -5.8247, -5.6408, -5.4501, -5.4388, -5.5806, -5.6721, -5.7139, -5.7862, -5.7882, -5.8141, -5.7902, -4.8918, -5.1539, -5.2324, -4.9317, -5.6328, -5.7669, -5.8364, -5.9116, -5.9144, -5.7116, -6.0941, -6.1914, -6.1959, -6.3041, -6.4324, -6.4336, -6.4339, -6.4343, -6.4345, -6.4347, -6.4352, -6.4355, -6.4359, -6.5784, -6.5786, -6.5798, -6.5799, -6.5803, -6.5822, -6.5829, -4.7657, -5.8419, -5.4869, -5.4907, -5.4206, -5.1045, -5.8287, -5.131, -5.164, -5.4964, -5.262, -5.9078, -5.4987, -5.5269, -5.6707, -5.2591, -5.499, -5.2805, -5.7788, -5.5552, -5.6738, -5.718, -5.7431, -5.7621], \"loglift\": [30.0, 29.0, 28.0, 27.0, 26.0, 25.0, 24.0, 23.0, 22.0, 21.0, 20.0, 19.0, 18.0, 17.0, 16.0, 15.0, 14.0, 13.0, 12.0, 11.0, 10.0, 9.0, 8.0, 7.0, 6.0, 5.0, 4.0, 3.0, 2.0, 1.0, 0.9777, 0.9775, 0.9761, 0.9565, 0.9545, 0.954, 0.9535, 0.9491, 0.9434, 0.9432, 0.9409, 0.9405, 0.9403, 0.9362, 0.931, 0.93, 0.9288, 0.9272, 0.9259, 0.9254, 0.9254, 0.9224, 0.9212, 0.9201, 0.9195, 0.9184, 0.9153, 0.9137, 0.9072, 0.9039, 0.9002, 0.8414, 0.7839, 0.7744, 0.7402, 0.7941, 0.6716, 0.6813, 0.8242, 0.6508, 0.8134, 0.7052, 0.7942, 0.5173, 0.3986, 0.4809, 0.6424, 0.5324, 0.1502, 0.5074, 0.1905, 0.6614, 0.502, -0.1128, 0.4496, 0.0181, 1.1314, 1.1312, 1.1253, 1.1251, 1.1223, 1.117, 1.1128, 1.1115, 1.1085, 1.1039, 1.1035, 1.1019, 1.0968, 1.0959, 1.0957, 1.0947, 1.0925, 1.0837, 1.0837, 1.0832, 1.0815, 1.0788, 1.0734, 1.0731, 1.0725, 1.067, 1.067, 1.0661, 1.0643, 1.0539, 1.0447, 1.0438, 0.9153, 0.8538, 0.8562, 0.8093, 0.8569, 0.8423, 0.9491, 0.576, 0.6184, 0.7928, 0.482, 0.8076, 0.6054, 0.3612, 0.3217, 0.4086, 0.3182, 0.2533, 0.6073, 0.6005, 0.6287, -0.2248, 1.1379, 1.1352, 1.1337, 1.1268, 1.1187, 1.1096, 1.109, 1.108, 1.1051, 1.1, 1.0922, 1.0901, 1.0856, 1.0827, 1.0719, 1.0708, 1.0705, 1.07, 1.0699, 1.0697, 1.0692, 1.0689, 1.0685, 1.0593, 1.0591, 1.0578, 1.0577, 1.0574, 1.0554, 1.0547, 1.0322, 1.0338, 1.0036, 0.9105, 0.8628, 0.7831, 0.9176, 0.6847, 0.6725, 0.7471, 0.5988, 0.841, 0.582, 0.5547, 0.6066, 0.3397, 0.4682, 0.2849, 0.6165, 0.103, 0.2884, 0.3599, 0.1603, 0.1502]}, \"token.table\": {\"Topic\": [3, 1, 2, 1, 3, 2, 3, 1, 2, 3, 1, 1, 2, 2, 1, 2, 3, 2, 3, 2, 1, 1, 2, 3, 1, 2, 2, 3, 2, 3, 1, 1, 2, 3, 2, 1, 3, 2, 3, 2, 2, 1, 2, 3, 1, 2, 1, 1, 2, 3, 3, 1, 2, 1, 3, 1, 2, 3, 1, 3, 1, 2, 3, 2, 2, 1, 3, 3, 1, 3, 1, 3, 1, 1, 2, 2, 1, 3, 1, 2, 1, 3, 1, 3, 3, 1, 1, 3, 1, 3, 1, 2, 3, 3, 1, 3, 2, 1, 2, 3, 2, 2, 1, 1, 2, 3, 1, 2, 1, 2, 3, 3, 3, 1, 1, 1, 1, 2, 3, 1, 2, 3, 1, 3, 1, 3, 2, 3, 3, 2, 2, 1, 2, 3, 1, 2, 1, 3, 2, 1, 1, 2, 1, 2, 3, 1, 2, 3, 1, 2, 3, 1, 2, 3, 1, 3, 1, 2, 1, 3, 2, 3, 3, 1, 1, 2, 3, 1, 2, 2, 1, 1, 2, 3, 1, 2, 3, 1, 1, 3, 2, 3, 2, 2, 1, 3, 3, 3, 3, 1, 1, 2, 3, 1, 2, 3, 1, 3, 3, 2, 1, 2, 3, 3, 2, 1, 3, 2, 3, 1, 2, 3, 1, 2, 3, 1, 3, 1, 2, 3, 2, 3, 1, 2, 3, 1, 2, 3, 2, 3, 1, 2, 1, 1, 2, 3, 2, 2, 1, 1, 3, 1, 1, 1, 1, 2, 3, 1, 2, 3, 3], \"Freq\": [0.8323909511165202, 0.9874740542357798, 0.9230144827124721, 0.330292790884131, 0.660585581768262, 0.9888658721916843, 0.9325677390923305, 0.3353018657451561, 0.26345146594262264, 0.4071522655476896, 0.9079695753931781, 0.8978885838533962, 0.9229714852933003, 0.9889472747807526, 0.08232736383389638, 0.9056010021728602, 0.9226319612965395, 0.9783985007433739, 0.8324164233011611, 0.9890538863219323, 0.9080263259659016, 0.27561488873790124, 0.4593581478965021, 0.27561488873790124, 0.7101551189354051, 0.23671837297846834, 0.5758605959573952, 0.4031024171701767, 0.08878377135188399, 0.8878377135188399, 0.9905383090772881, 0.1972961129804602, 0.723419080928354, 0.06576537099348673, 0.9888630872487072, 0.7525700227047927, 0.2508566742349309, 0.9308172967784858, 0.9226570965408902, 0.9890399675788353, 0.9417478978902095, 0.256111022537321, 0.475634756140739, 0.292698311471224, 0.9725853606615024, 0.9589487897211284, 0.9432284951767919, 0.5811828194166482, 0.24215950809027006, 0.19372760647221604, 0.8323864897287935, 0.43642470183317705, 0.6000839650206184, 0.5447333863200922, 0.4456909524437118, 0.7178588329094236, 0.18611154927281354, 0.07976209254549152, 0.8839822300199981, 0.10399790941411742, 0.6069697930492695, 0.18675993632285212, 0.18675993632285212, 0.9889545805274493, 0.9669942185252549, 0.8671148563085278, 0.14451914271808797, 0.9600321606036776, 0.12086915816216322, 0.8763013966756833, 0.23403906331717486, 0.7801302110572496, 0.9081082883799864, 0.17538621556668288, 0.7892379700500729, 0.989004577022752, 0.865057089905829, 0.9690211262994166, 0.25337320437623434, 0.7370856854581362, 0.22097006529425098, 0.7733952285298784, 0.12080071373374032, 0.8456049961361822, 0.8324120021437003, 0.9432547760204009, 0.9079413556659472, 0.8324015615649419, 0.9425368692154616, 0.9510462994781057, 0.21928575362894143, 0.6030358224795889, 0.16446431522170607, 0.9511102656059697, 0.2974489209482639, 0.6940474822126157, 0.9418983408090134, 0.0550477578117721, 0.7156208515530372, 0.2201910312470884, 0.9888686606675955, 0.9889860853493474, 0.972056326613704, 0.2798714301868192, 0.2798714301868192, 0.43979796172214447, 0.7194938295220201, 0.27409288743696003, 0.6302759702023772, 0.04848276693864441, 0.3393793685705109, 0.8323775074254485, 0.9774197223954972, 0.8648580712226616, 0.9361481896536324, 0.9432466722623428, 0.21019619911689552, 0.7356866969091342, 0.05254904977922388, 0.5881679530634655, 0.22873198174690326, 0.16337998696207376, 0.3844433646454965, 0.604125287300066, 0.9260528610780713, 0.9409663934749257, 0.23461745869786899, 0.703852376093607, 0.9519852785981797, 0.9889298678214298, 0.9419052629113709, 0.10737084175262876, 0.39369308642630546, 0.5010639281789342, 0.8474501214422075, 0.1694900242884415, 0.3904602286944814, 0.5856903430417221, 0.8790036261585747, 0.9506841016317945, 0.9205610066386462, 0.08368736423987692, 0.18837004086120976, 0.5651101225836292, 0.251160054481613, 0.7748703242169048, 0.035221378373495676, 0.21132827024097403, 0.43661543060515196, 0.43661543060515196, 0.11643078149470719, 0.20046771740825864, 0.24056126088991037, 0.5613096087431242, 0.6319829516659256, 0.3611331152376717, 0.10979496238772374, 0.8783596991017899, 0.9509009524808738, 0.9905990486372005, 0.6960449204242602, 0.2784179681697041, 0.8880848658282283, 0.9731827526112496, 0.2197762689777182, 0.4395525379554364, 0.32966440346657727, 0.27837642300263393, 0.7158250877210587, 0.922998587861336, 0.9260479797515946, 0.7941633661555924, 0.1443933393010168, 0.9510231479110218, 0.17311458348762895, 0.7963270840430933, 0.03462291669752579, 0.9874776206472803, 0.6379869342019272, 0.36936085664322105, 0.5677254850393418, 0.42579411377950643, 0.8790229240666662, 0.9308373831578848, 0.7075430600392596, 0.272131946168946, 0.8323907358755681, 0.8324122042228943, 0.9510860751056405, 0.9826179112038136, 0.35397470449141744, 0.09653855577038657, 0.5792313346223195, 0.9722759922275556, 0.9888524633089655, 0.8323936342896269, 0.9725952267556117, 0.9511101373321506, 0.9160518653733748, 0.9494736476423583, 0.2557510898096123, 0.5845739195648282, 0.14614347989120705, 0.9877195967683351, 0.9889590868930243, 0.8170034646187658, 0.17871950788535504, 0.8790130126014188, 0.9511106409273101, 0.13552766481711953, 0.5082287430641982, 0.3727010782470787, 0.19640447152009832, 0.04910111788002458, 0.7365167682003687, 0.8177785149866122, 0.18172855888591383, 0.028126525637208313, 0.7312896665674161, 0.2250122050976665, 0.03921405841222522, 0.9803514603056305, 0.7367202005742765, 0.11334156931911946, 0.1416769616488993, 0.24606291591725402, 0.15378932244828375, 0.615157289793135, 0.9229967031458927, 0.9511128140478533, 0.8660756047054666, 0.1443459341175778, 0.9998613334920587, 0.12038062262177741, 0.32101499365807307, 0.5617762389016279, 0.9420071753633961, 0.9128537782749774, 0.9079827688138131, 0.3769053468820973, 0.6281755781368288, 0.9433055877963415, 0.9260381510280802, 0.9726341427120995, 0.3205224558083031, 0.2849088496073805, 0.42736327441107075, 0.420420668749359, 0.2102103343746795, 0.3415917933588542, 0.9326024539082666], \"Term\": [\"ability\", \"access\", \"account\", \"activity\", \"activity\", \"ad\", \"ai\", \"announce\", \"announce\", \"announce\", \"announces\", \"anyone\", \"anything\", \"app\", \"approach\", \"approach\", \"artificialintelligence\", \"asset\", \"b2b\", \"bank\", \"bit\", \"blockchain\", \"blockchain\", \"blockchain\", \"board\", \"board\", \"brand\", \"brand\", \"building\", \"building\", \"businessangels\", \"case\", \"case\", \"case\", \"ccp\", \"check\", \"check\", \"china\", \"city\", \"class\", \"commitment\", \"community\", \"community\", \"community\", \"competition\", \"congratulation\", \"covid\", \"crypto\", \"crypto\", \"crypto\", \"culture\", \"customer\", \"customer\", \"data\", \"data\", \"day\", \"day\", \"day\", \"decade\", \"decade\", \"decision\", \"decision\", \"decision\", \"diligence\", \"discussion\", \"diversity\", \"diversity\", \"dollar\", \"ecosystem\", \"ecosystem\", \"education\", \"education\", \"email\", \"employee\", \"employee\", \"energy\", \"environment\", \"episode\", \"equity\", \"equity\", \"europe\", \"europe\", \"everyone\", \"everyone\", \"example\", \"expansion\", \"exporter\", \"fact\", \"family\", \"fellowship\", \"finance\", \"finance\", \"finance\", \"finlab\", \"fintech\", \"fintech\", \"galaxy\", \"game\", \"game\", \"game\", \"gdp\", \"goal\", \"google\", \"group\", \"group\", \"group\", \"gt\", \"gt\", \"help\", \"help\", \"help\", \"hour\", \"insurtech\", \"intelligentassistant\", \"issue\", \"ji\", \"job\", \"job\", \"job\", \"join\", \"join\", \"join\", \"journey\", \"journey\", \"law\", \"leader\", \"learn\", \"learn\", \"level\", \"loan\", \"look\", \"lot\", \"lot\", \"lot\", \"management\", \"management\", \"manager\", \"manager\", \"marketing\", \"meet\", \"model\", \"model\", \"month\", \"month\", \"month\", \"network\", \"network\", \"network\", \"news\", \"news\", \"news\", \"number\", \"number\", \"number\", \"office\", \"office\", \"operation\", \"operation\", \"others\", \"pe\", \"pe/vc\", \"pe/vc\", \"period\", \"pichai\", \"pitch\", \"pitch\", \"pitch\", \"platform\", \"platform\", \"please\", \"pm\", \"power\", \"power\", \"president\", \"product\", \"product\", \"product\", \"question\", \"record\", \"record\", \"research\", \"research\", \"response\", \"revenue\", \"risk\", \"risk\", \"saas\", \"scene\", \"scout\", \"search\", \"sector\", \"sector\", \"sector\", \"security\", \"sheet\", \"sign\", \"silicon\", \"simulation\", \"solution\", \"something\", \"space\", \"space\", \"space\", \"state\", \"stock\", \"strategy\", \"strategy\", \"style\", \"summit\", \"support\", \"support\", \"support\", \"talk\", \"talk\", \"talk\", \"technology\", \"technology\", \"term\", \"term\", \"term\", \"thanks\", \"thanks\", \"thesis\", \"thesis\", \"thesis\", \"thing\", \"thing\", \"thing\", \"tomorrow\", \"towards\", \"trade\", \"trade\", \"traveltech\", \"trend\", \"trend\", \"trend\", \"tweet\", \"twitter\", \"valley\", \"value\", \"value\", \"vc/pe\", \"vision\", \"voice\", \"week\", \"week\", \"week\", \"work\", \"work\", \"work\", \"\\ud83d\\udc49\"]}, \"R\": 30, \"lambda.step\": 0.01, \"plot.opts\": {\"xlab\": \"PC1\", \"ylab\": \"PC2\"}, \"topic.order\": [3, 1, 2]};\n",
       "\n",
       "function LDAvis_load_lib(url, callback){\n",
       "  var s = document.createElement('script');\n",
       "  s.src = url;\n",
       "  s.async = true;\n",
       "  s.onreadystatechange = s.onload = callback;\n",
       "  s.onerror = function(){console.warn(\"failed to load library \" + url);};\n",
       "  document.getElementsByTagName(\"head\")[0].appendChild(s);\n",
       "}\n",
       "\n",
       "if(typeof(LDAvis) !== \"undefined\"){\n",
       "   // already loaded: just create the visualization\n",
       "   !function(LDAvis){\n",
       "       new LDAvis(\"#\" + \"ldavis_el375031407247582562088898397851\", ldavis_el375031407247582562088898397851_data);\n",
       "   }(LDAvis);\n",
       "}else if(typeof define === \"function\" && define.amd){\n",
       "   // require.js is available: use it to load d3/LDAvis\n",
       "   require.config({paths: {d3: \"https://d3js.org/d3.v5\"}});\n",
       "   require([\"d3\"], function(d3){\n",
       "      window.d3 = d3;\n",
       "      LDAvis_load_lib(\"https://cdn.jsdelivr.net/gh/bmabey/pyLDAvis@3.3.1/pyLDAvis/js/ldavis.v3.0.0.js\", function(){\n",
       "        new LDAvis(\"#\" + \"ldavis_el375031407247582562088898397851\", ldavis_el375031407247582562088898397851_data);\n",
       "      });\n",
       "    });\n",
       "}else{\n",
       "    // require.js not available: dynamically load d3 & LDAvis\n",
       "    LDAvis_load_lib(\"https://d3js.org/d3.v5.js\", function(){\n",
       "         LDAvis_load_lib(\"https://cdn.jsdelivr.net/gh/bmabey/pyLDAvis@3.3.1/pyLDAvis/js/ldavis.v3.0.0.js\", function(){\n",
       "                 new LDAvis(\"#\" + \"ldavis_el375031407247582562088898397851\", ldavis_el375031407247582562088898397851_data);\n",
       "            })\n",
       "         });\n",
       "}\n",
       "</script>"
      ],
      "text/plain": [
       "PreparedData(topic_coordinates=              x         y  topics  cluster       Freq\n",
       "topic                                                \n",
       "2      0.099668  0.095262       1        1  37.194975\n",
       "0     -0.137915  0.033215       2        1  31.524429\n",
       "1      0.038246 -0.128477       3        1  31.280597, topic_info=                Term       Freq      Total Category  logprob  loglift\n",
       "1411          search  44.000000  44.000000  Default  30.0000  30.0000\n",
       "1994      traveltech  44.000000  44.000000  Default  29.0000  29.0000\n",
       "1993  businessangels  39.000000  39.000000  Default  28.0000  28.0000\n",
       "367               pe  26.000000  26.000000  Default  27.0000  27.0000\n",
       "52         ecosystem  33.000000  33.000000  Default  26.0000  26.0000\n",
       "...              ...        ...        ...      ...      ...      ...\n",
       "22              work  13.196097  38.057120   Topic3  -5.5552   0.1030\n",
       "26              week  11.719957  28.079156   Topic3  -5.6738   0.2884\n",
       "171            group  11.212865  25.011485   Topic3  -5.7180   0.3599\n",
       "62            record  10.935633  29.781174   Topic3  -5.7431   0.1603\n",
       "21           support  10.728845  29.514269   Topic3  -5.7621   0.1502\n",
       "\n",
       "[194 rows x 6 columns], token_table=      Topic      Freq      Term\n",
       "term                           \n",
       "126       3  0.832391   ability\n",
       "358       1  0.987474    access\n",
       "1045      2  0.923014   account\n",
       "184       1  0.330293  activity\n",
       "184       3  0.660586  activity\n",
       "...     ...       ...       ...\n",
       "26        3  0.427363      week\n",
       "22        1  0.420421      work\n",
       "22        2  0.210210      work\n",
       "22        3  0.341592      work\n",
       "996       3  0.932602         👉\n",
       "\n",
       "[251 rows x 3 columns], R=30, lambda_step=0.01, plot_opts={'xlab': 'PC1', 'ylab': 'PC2'}, topic_order=[3, 1, 2])"
      ]
     },
     "execution_count": 91,
     "metadata": {},
     "output_type": "execute_result"
    }
   ],
   "source": [
    "import pyLDAvis.gensim_models\n",
    "\n",
    "pyLDAvis.enable_notebook()\n",
    "\n",
    "vis = pyLDAvis.gensim_models.prepare(tweets_lda, tweets_bow, dictionary=tweets_lda.id2word)\n",
    "vis"
   ]
  },
  {
   "cell_type": "markdown",
   "id": "1f17564b",
   "metadata": {},
   "source": [
    "### Initial impressions:\n",
    "- "
   ]
  }
 ],
 "metadata": {
  "kernelspec": {
   "display_name": "Python 3",
   "language": "python",
   "name": "python3"
  },
  "language_info": {
   "codemirror_mode": {
    "name": "ipython",
    "version": 3
   },
   "file_extension": ".py",
   "mimetype": "text/x-python",
   "name": "python",
   "nbconvert_exporter": "python",
   "pygments_lexer": "ipython3",
   "version": "3.9.1"
  }
 },
 "nbformat": 4,
 "nbformat_minor": 5
}
