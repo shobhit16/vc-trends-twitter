{
 "cells": [
  {
   "cell_type": "markdown",
   "id": "2c81126b",
   "metadata": {},
   "source": [
    "# Inferring VC investment trends in 2020 using textual analysis of Twitter data\n",
    "\n",
    "Venture capitalists (VCs) are known for utilizing a variety of resources, ranging from financial statements and research reports to aggregation platforms such as Crunchbase and Angellist, for uncovering market trends to optimize their investment strategy. An often overlooked resource for performing such market analyses is social media, which can serve as a goldmine of alternate data for providing additional leverage to VCs. One of such social media platforms that is currently popular with entrepreneurs and investors is Twitter, which can serve as an incredibly rich source of textual information indicating market activity that might be relevant for accumulating market intelligence. The goal of this project is to utilize unsupervised learning techniques for performing exploratory analysis on textual data from Twitter to uncover latent market trends, create market maps, and gather market intelligence. "
   ]
  },
  {
   "cell_type": "markdown",
   "id": "d9ed6b2a",
   "metadata": {},
   "source": [
    "### Scraping:\n",
    "\n",
    "Scraping tweets (max 300k) for \"vc investment\" query during the year 2020 using *snscrape*"
   ]
  },
  {
   "cell_type": "code",
   "execution_count": null,
   "id": "49c4c9a6",
   "metadata": {},
   "outputs": [],
   "source": [
    "import snscrape.modules.twitter as sntwitter\n",
    "import pandas as pd\n",
    "\n",
    "# Creating a list to store the tweet data\n",
    "tweets_list = []\n",
    "\n",
    "# Using TwitterSearchScraper to scrape tweets and append to tweets_list\n",
    "for i,tweet in enumerate(sntwitter.TwitterSearchScraper('vc investment since:2020-01-01 until:2020-12-31').get_items()):\n",
    "    if i>300000: # Only scraping 300000 tweets\n",
    "        break\n",
    "    if i%1000 == 0:\n",
    "        print(i)\n",
    "    \n",
    "    # Only appending tweets that are in English and have more than 10 likes\n",
    "    if tweet.likeCount >= 10 and tweet.lang == \"en\":\n",
    "        tweets_list.append(tweet.content)\n",
    "    \n",
    "print(\"Done scraping!\")"
   ]
  },
  {
   "cell_type": "markdown",
   "id": "458f7ca8",
   "metadata": {},
   "source": [
    "Converting the list of tweets to a Pandas dataframe and saving to file for future analysis."
   ]
  },
  {
   "cell_type": "code",
   "execution_count": null,
   "id": "a933038c",
   "metadata": {},
   "outputs": [],
   "source": [
    "# Creating a dataframe from tweets_list\n",
    "tweets_df = pd.DataFrame(tweets_list, columns=[\"Text\"])\n",
    "\n",
    "# Saving dataframe to file for future analysis\n",
    "tweets_df.to_pickle(\"venture_capital_investment.pkl\")"
   ]
  },
  {
   "cell_type": "code",
   "execution_count": 2,
   "id": "eefe3f3a",
   "metadata": {},
   "outputs": [],
   "source": [
    "# Loading dataframe from file if not scraping\n",
    "import pandas as pd\n",
    "tweets_df = pd.read_pickle(\"venture_capital_investment.pkl\")"
   ]
  },
  {
   "cell_type": "markdown",
   "id": "8bd25ab4",
   "metadata": {},
   "source": [
    "### Cleaning data:\n",
    "\n",
    "Step 1: Remove all mentions, links and numbers (words following @, http, and numbers) (Note: not removing hastags as they contain relevant information for topic modeling)"
   ]
  },
  {
   "cell_type": "code",
   "execution_count": 4,
   "id": "6e4d0c05",
   "metadata": {},
   "outputs": [],
   "source": [
    "for idx,tweet in enumerate(tweets_df[\"Text\"]):\n",
    "    tweets_df[\"Text\"][idx] = ' '.join(i for i in tweet.split() if not (i.startswith('@') or i.startswith('http') or i.startswith('$') or i.isdigit()))"
   ]
  },
  {
   "cell_type": "markdown",
   "id": "60802a28",
   "metadata": {},
   "source": [
    "Step 2: Remove all stop words that don't contribute to topic modeling and tokenizing the tweets"
   ]
  },
  {
   "cell_type": "code",
   "execution_count": 5,
   "id": "3a09ed9d",
   "metadata": {
    "scrolled": false
   },
   "outputs": [
    {
     "name": "stderr",
     "output_type": "stream",
     "text": [
      "[nltk_data] Downloading package stopwords to\n",
      "[nltk_data]     /Users/Shobhit/nltk_data...\n",
      "[nltk_data]   Package stopwords is already up-to-date!\n",
      "[nltk_data] Downloading package punkt to /Users/Shobhit/nltk_data...\n",
      "[nltk_data]   Package punkt is already up-to-date!\n"
     ]
    }
   ],
   "source": [
    "import string\n",
    "import nltk\n",
    "\n",
    "nltk.download('stopwords')\n",
    "nltk.download('punkt')\n",
    "stop_words = nltk.corpus.stopwords.words('english')\n",
    "\n",
    "# Adding punctuations to list of stopwords\n",
    "stop_words += list(string.punctuation)\n",
    "\n",
    "# Defining a function for converting to lowercase, tokenizing, and removing stopwords\n",
    "def tokenize_and_removestopwords(text):\n",
    "    tokens = nltk.word_tokenize(text)\n",
    "    tokens = [token.lower() for token in tokens if token.lower() not in stop_words]\n",
    "    return tokens\n",
    "  \n",
    "# Applying tokenizing to all tweets\n",
    "for idx,tweet in enumerate(tweets_df[\"Text\"]):\n",
    "     tweets_df[\"Text\"][idx] = tokenize_and_removestopwords(tweet)"
   ]
  },
  {
   "cell_type": "markdown",
   "id": "d31ac29d",
   "metadata": {},
   "source": [
    "Step 3: Only select nouns"
   ]
  },
  {
   "cell_type": "code",
   "execution_count": 6,
   "id": "00a2eccb",
   "metadata": {},
   "outputs": [
    {
     "name": "stderr",
     "output_type": "stream",
     "text": [
      "[nltk_data] Downloading package averaged_perceptron_tagger to\n",
      "[nltk_data]     /Users/Shobhit/nltk_data...\n",
      "[nltk_data]   Package averaged_perceptron_tagger is already up-to-\n",
      "[nltk_data]       date!\n"
     ]
    }
   ],
   "source": [
    "nltk.download('averaged_perceptron_tagger')\n",
    "\n",
    "# Selecting only nouns from all tweets\n",
    "for idx,tweet in enumerate(tweets_df[\"Text\"]):\n",
    "    updated_tweet = []\n",
    "    tweet_pos = nltk.pos_tag(tweet)\n",
    "    [updated_tweet.append(token[0]) for token in tweet_pos if (token[1] == \"NN\" or token[1] == \"NNS\")]\n",
    "    tweets_df[\"Text\"][idx] = updated_tweet"
   ]
  },
  {
   "cell_type": "markdown",
   "id": "cefa3c06",
   "metadata": {},
   "source": [
    "Step 4: Lemmatizing (reducing words to their base meaning)"
   ]
  },
  {
   "cell_type": "code",
   "execution_count": 7,
   "id": "aae96512",
   "metadata": {},
   "outputs": [
    {
     "name": "stderr",
     "output_type": "stream",
     "text": [
      "[nltk_data] Downloading package wordnet to /Users/Shobhit/nltk_data...\n",
      "[nltk_data]   Package wordnet is already up-to-date!\n"
     ]
    }
   ],
   "source": [
    "nltk.download('wordnet')\n",
    "lemmatizer = nltk.stem.WordNetLemmatizer()\n",
    "\n",
    "def lemmatize_text(text):\n",
    "    lemmatized = []\n",
    "    for word in text:\n",
    "        lemmatized.append(lemmatizer.lemmatize(word))\n",
    "    return lemmatized\n",
    "\n",
    "# Applying lemmatizing to all tweets\n",
    "for idx,tweet in enumerate(tweets_df[\"Text\"]):\n",
    "     tweets_df[\"Text\"][idx] = lemmatize_text(tweet)"
   ]
  },
  {
   "cell_type": "markdown",
   "id": "ad3f1f0f",
   "metadata": {},
   "source": [
    "Generating a frequency table that will be used to append the list of stopwords in a separate list called *irrelevant_words*"
   ]
  },
  {
   "cell_type": "code",
   "execution_count": 9,
   "id": "c5a7cc87",
   "metadata": {},
   "outputs": [
    {
     "data": {
      "image/png": "[encoded data removed]",
      "text/plain": [
       "<Figure size 432x288 with 1 Axes>"
      ]
     },
     "metadata": {
      "needs_background": "light"
     },
     "output_type": "display_data"
    }
   ],
   "source": [
    "# Iterating through all tweets to construct a frequency table\n",
    "words_list = [token for tweet in tweets_df[\"Text\"] for token in tweet]\n",
    "\n",
    "word_freq = nltk.probability.FreqDist(words_list)\n",
    "most_common = word_freq.most_common(50)\n",
    "most_common_terms = [term[0] for term in most_common]\n",
    "most_common_terms_freq = [term[1] for term in most_common]\n",
    "\n",
    "# Construct a bar plot to visualize frequencies of top 30 words\n",
    "import matplotlib.pyplot as plt\n",
    "plt.bar(x=list(range(1,31)), height=most_common_terms_freq[0:30], tick_label=most_common_terms[0:30])\n",
    "plt.xticks(rotation = 90)\n",
    "plt.show()"
   ]
  },
  {
   "cell_type": "markdown",
   "id": "b85d2781",
   "metadata": {},
   "source": [
    "Removing additional stopwords (stored in *irrelevant words*) based on the top 30 frequent words in the frequency table"
   ]
  },
  {
   "cell_type": "code",
   "execution_count": 10,
   "id": "4d286132",
   "metadata": {},
   "outputs": [],
   "source": [
    "# Removing additional words from the tweets database\n",
    "irrelevant_words = most_common_terms[0:30]\n",
    "irrelevant_words.extend([\"round\", \"money\", \"seed\", \"share\", \"post\", \"way\", \"entrepreneur\", \"bn\", \"part\", \"series\", \"return\", \"information\", \"woman\", \"impact\", \"world\", \"insight\", \"vcs\", \"member\"])\n",
    "\n",
    "# Applying filtering to all tweets\n",
    "for idx,tweet in enumerate(tweets_df[\"Text\"]):\n",
    "    tweets_df[\"Text\"][idx] = [token for token in tweet if token not in irrelevant_words]"
   ]
  },
  {
   "cell_type": "markdown",
   "id": "e1c7cdd9",
   "metadata": {},
   "source": [
    "Creating bag of words for LDA topic modeling"
   ]
  },
  {
   "cell_type": "code",
   "execution_count": 11,
   "id": "51f4bd3a",
   "metadata": {},
   "outputs": [],
   "source": [
    "from gensim.corpora import Dictionary\n",
    "\n",
    "# Creating a dictionary from tweets corpus(used to give a unique index to each word in the corpus)\n",
    "text_dict = Dictionary(tweets_df[\"Text\"])\n",
    "\n",
    "# Creating bag of words (a frequency table for each tweet using the indices in the dictionary)\n",
    "tweets_bow = [text_dict.doc2bow(tweet) for tweet in tweets_df[\"Text\"]]"
   ]
  },
  {
   "cell_type": "markdown",
   "id": "8028002f",
   "metadata": {},
   "source": [
    "### Modeling:\n",
    "\n",
    "Fitting LDA models to the tweets data with increasing number of topics and computing coherence scores to find the optimum parameters."
   ]
  },
  {
   "cell_type": "code",
   "execution_count": 13,
   "id": "c5777ac1",
   "metadata": {},
   "outputs": [
    {
     "name": "stdout",
     "output_type": "stream",
     "text": [
      "Done finding coherence scores!\n"
     ]
    }
   ],
   "source": [
    "from gensim.models.ldamodel import LdaModel\n",
    "from gensim.models.coherencemodel import CoherenceModel\n",
    "\n",
    "coherence = []\n",
    "\n",
    "for num_topics_ in range(3,12):\n",
    "    tweets_lda_ = LdaModel(tweets_bow, num_topics = num_topics_, id2word = text_dict, random_state = 1, passes=50)\n",
    "    cm = CoherenceModel(model=tweets_lda_, texts=tweets_df[\"Text\"], dictionary=text_dict, coherence='c_v')                           \n",
    "    coherence.append((num_topics_, cm.get_coherence()))\n",
    "\n",
    "print(\"Done finding coherence scores!\")"
   ]
  },
  {
   "cell_type": "markdown",
   "id": "0cfd0c5e",
   "metadata": {},
   "source": [
    "Plotting coherence scores against number of topics."
   ]
  },
  {
   "cell_type": "code",
   "execution_count": 15,
   "id": "0910000a",
   "metadata": {},
   "outputs": [
    {
     "data": {
      "image/png": "[encoded data removed]",
      "text/plain": [
       "<Figure size 432x288 with 1 Axes>"
      ]
     },
     "metadata": {
      "needs_background": "light"
     },
     "output_type": "display_data"
    }
   ],
   "source": [
    "x = [i[0] for i in coherence]\n",
    "y = [i[1] for i in coherence]\n",
    "plt.plot(x, y)\n",
    "plt.ylabel('Coherence Score')\n",
    "plt.xlabel('No. of topics')\n",
    "plt.show()"
   ]
  },
  {
   "cell_type": "markdown",
   "id": "cdeddf54",
   "metadata": {},
   "source": [
    "Fitting the model with optimum number of topics (topics leading to maximum coherence score)."
   ]
  },
  {
   "cell_type": "code",
   "execution_count": 16,
   "id": "bd5b2ccd",
   "metadata": {},
   "outputs": [
    {
     "name": "stdout",
     "output_type": "stream",
     "text": [
      "Done fitting!\n"
     ]
    }
   ],
   "source": [
    "tweets_lda = LdaModel(tweets_bow, num_topics = 4, id2word = text_dict, random_state = 1, passes=50)\n",
    "print(\"Done fitting!\")"
   ]
  },
  {
   "cell_type": "markdown",
   "id": "d49faf19",
   "metadata": {},
   "source": [
    "Visualizing the topic modeling output using *pyLDAvis*."
   ]
  },
  {
   "cell_type": "code",
   "execution_count": 17,
   "id": "e395784f",
   "metadata": {},
   "outputs": [
    {
     "data": {
      "text/html": [
       "\n",
       "<link rel=\"stylesheet\" type=\"text/css\" href=\"https://cdn.jsdelivr.net/gh/bmabey/pyLDAvis@3.3.1/pyLDAvis/js/ldavis.v1.0.0.css\">\n",
       "\n",
       "\n",
       "<div id=\"ldavis_el487181406463752220643422904750\"></div>\n",
       "<script type=\"text/javascript\">\n",
       "\n",
       "var ldavis_el487181406463752220643422904750_data = {\"mdsDat\": {\"x\": [-0.04315882933780635, -0.06638929780583892, 0.14732751090667462, -0.037779383763029396], \"y\": [0.09565996339672475, 0.02172214130136263, 0.006137351956893414, -0.12351945665498071], \"topics\": [1, 2, 3, 4], \"cluster\": [1, 1, 1, 1], \"Freq\": [26.815820976278637, 25.118178892348297, 24.980342375836585, 23.085657755536477]}, \"tinfo\": {\"Term\": [\"search\", \"traveltech\", \"businessangels\", \"strategy\", \"thesis\", \"europe\", \"gt\", \"term\", \"record\", \"angel\", \"journey\", \"pitch\", \"lot\", \"space\", \"google\", \"trade\", \"game\", \"india\", \"bank\", \"crypto\", \"pm\", \"community\", \"number\", \"stock\", \"energy\", \"pe/vc\", \"\\u201d\", \"change\", \"revenue\", \"building\", \"journey\", \"pm\", \"detail\", \"vision\", \"announces\", \"gdp\", \"memo\", \"economy\", \"google\", \"ey\", \"pichai\", \"govt\", \"btc\", \"simulation\", \"summit\", \"fellowship\", \"amazon\", \"openness\", \"speaks\", \"fall\", \"knife10x\", \"leverage\", \"cap\", \"ji\", \"destination\", \"msmes\", \"sundar\", \"modi\", \"fuel\", \"track\", \"issue\", \"shri\", \"medium\", \"vc/pe\", \"india\", \"pitch\", \"term\", \"crypto\", \"pe/vc\", \"health\", \"meeting\", \"one\", \"work\", \"data\", \"volume\", \"announce\", \"blockchain\", \"event\", \"support\", \"ecosystem\", \"thing\", \"sector\", \"technology\", \"value\", \"model\", \"day\", \"research\", \"everyone\", \"pe\", \"equity\", \"application\", \"speak\", \"accelerator\", \"man\", \"pandemic\", \"expectation\", \"form\", \"area\", \"focus\", \"stock\", \"latin\", \"listing\", \"agtech\", \"odds\", \"co-founder\", \"bond\", \"alternative\", \"defi\", \"corporation\", \"ii\", \"property\", \"daos\", \"venturemonitor\", \"competitor\", \"api\", \"fomo\", \"exception\", \"cooperation\", \"format\", \"rejection\", \"category\", \"thesis\", \"bank\", \"record\", \"place\", \"voice\", \"talent\", \"home\", \"increase\", \"loan\", \"infrastructure\", \"number\", \"rate\", \"valuation\", \"software\", \"finance\", \"asset\", \"education\", \"course\", \"covid19\", \"building\", \"state\", \"fintech\", \"sector\", \"trend\", \"activity\", \"check\", \"platform\", \"thing\", \"equity\", \"blockchain\", \"class\", \"venturecapital\", \"network\", \"need\", \"work\", \"ecosystem\", \"search\", \"traveltech\", \"businessangels\", \"trade\", \"bigdata\", \"exporter\", \"fieo\", \"turkey\", \"ambassador\", \"intelligentassistant\", \"revenue\", \"seek\", \"spend\", \"scholarship\", \"volatility\", \"psychology\", \"expenditure\", \"intensity\", \"renewables\", \"factor\", \"dtc\", \"momentum\", \"bring\", \"strategy\", \"reliance\", \"regtech\", \"message\", \"milestone\", \"lebanon\", \"sanjay\", \"gt\", \"press\", \"angel\", \"space\", \"decade\", \"mr\", \"lot\", \"energy\", \"\\u201d\", \"roi\", \"advice\", \"something\", \"value\", \"source\", \"get\", \"join\", \"change\", \"month\", \"exit\", \"product\", \"tweet\", \"day\", \"office\", \"news\", \"data\", \"state\", \"project\", \"week\", \"fintech\", \"biotech\", \"artificialintelligence\", \"inclusion\", \"account\", \"ccp\", \"b2b\", \"sequoia\", \"commitment\", \"angelinvestor\", \"cvcaawards\", \"definition\", \"robotics\", \"vehicle\", \"europe\", \"yiming\", \"\\ud83d\\udd25tiktok\", \"hospital\", \"cheque\", \"participant\", \"influence\", \"marriage\", \"carry\", \"travel\", \"debt\", \"game\", \"kind\", \"retainer\", \"mine\", \"girl\", \"tikto\", \"please\", \"see\", \"cash\", \"r\", \"community\", \"edtech\", \"bitcoin\", \"question\", \"thanks\", \"success\", \"path\", \"pe\", \"help\", \"friend\", \"announce\", \"career\", \"congrats\", \"news\", \"technology\", \"job\", \"idea\", \"equity\", \"fintech\", \"dollar\", \"change\", \"term\", \"building\", \"ecosystem\", \"decision\"], \"Freq\": [43.0, 43.0, 40.0, 38.0, 34.0, 27.0, 31.0, 35.0, 29.0, 27.0, 18.0, 29.0, 28.0, 27.0, 17.0, 14.0, 17.0, 32.0, 24.0, 25.0, 13.0, 27.0, 25.0, 15.0, 18.0, 19.0, 26.0, 19.0, 12.0, 19.0, 17.8124149194315, 13.22164052445417, 10.920412715988588, 10.10671666983508, 7.091706534084765, 7.086938185911382, 7.080691731875649, 7.080464394105593, 16.21864255424573, 6.320336759217275, 5.558284960423193, 5.556354230805657, 5.552215780605264, 4.791512004509078, 4.790490215614782, 4.79031171032602, 5.463388676418096, 4.024814964637312, 4.024814964637312, 4.024291349123608, 6.03515383739125, 4.016659119547297, 7.887424840696459, 7.844075549445187, 7.825404306597605, 3.2580898153120277, 3.258082634064779, 3.258082634064779, 3.2580489847919543, 3.258021901230901, 11.618475908580587, 7.052516621240154, 12.314511116949447, 7.865862222527909, 23.48925078194124, 20.932510092783893, 25.191419765603374, 17.942798465199587, 14.582754430907585, 12.059282203291756, 10.966888106756628, 7.884665600324873, 17.528830338064626, 18.28069789718857, 8.423714640259208, 17.282100738293952, 15.42941937800308, 10.619484806979731, 13.86890890864706, 13.397022996555885, 12.720746477046609, 12.44890302975347, 12.592017490644709, 12.031790747394375, 11.1154677019829, 12.583312998264864, 9.951347307924058, 9.298562905129911, 10.279889779925997, 10.18212222809223, 8.509098149719247, 6.991195857602398, 6.988063943063412, 6.236387925438885, 5.484438999208238, 5.480492587012389, 3.9719222317116323, 9.920057168554914, 9.164942118114935, 12.89065581484142, 3.2152681304844535, 3.2152302692200827, 3.2139381815025074, 3.213824982087715, 3.2129778122737815, 3.2082682169265877, 3.2071433337775517, 7.021168910120944, 2.4586305575249687, 2.4586165277163445, 2.4585850086942287, 2.4585638678867126, 2.4584881453579714, 2.4585089017871695, 2.4583230548701835, 2.458134325115809, 2.457907926286224, 2.4578623774554837, 2.456629676188114, 2.4455789917209314, 5.488220897483776, 27.45172140095366, 18.773276926704405, 22.759759793498432, 9.933915544449444, 7.023505930297311, 6.449393861273606, 8.091426518804216, 10.721776552597495, 6.979229391791434, 4.736452629062815, 17.662183734222303, 8.300300003336941, 9.225196494563448, 10.815065939249578, 11.464746785686735, 13.341282505269776, 8.126891568737223, 7.402996494080944, 11.738107420711094, 10.757844307733881, 11.002192067279262, 18.879861959392763, 14.169545518473411, 12.05264112369791, 10.550811226590044, 12.300602039437015, 11.577902381351212, 12.61157716795133, 13.779392300135102, 12.16019709601875, 9.243117749284327, 9.384526688870466, 10.021489994262344, 8.904870210317117, 9.749255587711136, 9.314514484428981, 43.32863236253463, 42.57177331358921, 40.30188119286307, 13.807707381265208, 10.021403695030049, 7.0004316686244366, 7.0004316686244366, 7.00010521086884, 6.998221389066051, 6.243481257379739, 11.523894551373008, 4.729873252970891, 4.729317816063535, 4.72133680315797, 3.9730237607513432, 3.9730237607513432, 3.97299891326409, 3.97299891326409, 3.97299891326409, 3.9729339275281985, 3.972318856651436, 3.9679051783772885, 3.9627900364245456, 33.326220557684394, 3.216016773689516, 3.210130595093871, 3.2081305635045463, 3.200963974777318, 2.459265715746392, 2.459264760073806, 24.78576150712791, 5.499905675119614, 21.425358278627208, 20.792898748015947, 14.283843341920054, 5.503888153922668, 20.325010624052855, 13.088884101268146, 17.302779403447083, 5.495171655394424, 7.754778445474087, 11.201148628102617, 16.175169850397147, 10.053486770570725, 12.072853527668045, 14.600030293093804, 10.650839477577174, 14.298883334819593, 10.004576212124457, 12.202302819950015, 7.276195962997437, 12.487604726737702, 9.287797306924737, 10.572755675482037, 10.896100996598769, 9.000806535541937, 8.548659485887944, 9.268610459537244, 10.039254894410451, 9.135609837053492, 9.130016079656484, 8.381550567362801, 7.636911024035244, 5.41048465165493, 5.4087642020829065, 5.405833785409407, 4.663434712551208, 4.657659371770212, 3.913960599943742, 3.9127082398343322, 3.899945118245401, 8.404306427472118, 23.752157972199043, 3.1714626100670285, 3.1714622567919624, 3.171429402210813, 3.171406439331515, 3.16867067721945, 3.1662899565488396, 3.1651732540648214, 3.164096824938341, 3.1606467406425733, 6.922968257753341, 14.792907287455492, 9.827566882870228, 2.425121340745951, 2.4251206341958187, 2.425117454720224, 2.4251128621443643, 8.06507545832672, 11.824447128635352, 8.232708716503398, 4.611810273863428, 16.3806596791423, 7.630672186367493, 8.291185631648787, 9.471058643340966, 13.079745073495157, 11.240983681825856, 7.401928700702538, 14.460988405628731, 10.208265279277272, 7.3902981789756, 15.099884949613893, 6.748530215252982, 6.748147971631436, 12.531823924538273, 12.090232918083684, 8.849748132147461, 9.503645441990384, 13.198516150726078, 11.890407822781516, 8.434286056133542, 8.520345981891769, 10.117675660621202, 8.402839629397572, 8.97005171661523, 8.324718500925286], \"Total\": [43.0, 43.0, 40.0, 38.0, 34.0, 27.0, 31.0, 35.0, 29.0, 27.0, 18.0, 29.0, 28.0, 27.0, 17.0, 14.0, 17.0, 32.0, 24.0, 25.0, 13.0, 27.0, 25.0, 15.0, 18.0, 19.0, 26.0, 19.0, 12.0, 19.0, 18.390314692943488, 13.79038263057324, 11.49008063018763, 10.722649205882494, 7.656742723936855, 7.656465900584626, 7.656277676071607, 7.6561861501354205, 17.60130084288666, 6.889774080356026, 6.123293240398121, 6.1231769635908995, 6.122965626492476, 5.356548178335694, 5.356496510717752, 5.356484178152056, 6.120476930606266, 4.589826605817095, 4.589826627896786, 4.5897555455316486, 6.885902362603241, 4.589405092645572, 9.180080592305446, 9.179405828205494, 9.179209062277806, 3.8230946499857223, 3.823091289661679, 3.8230914456835405, 3.8230825888336093, 3.8230719375822773, 13.768932256260074, 8.412545085041247, 15.290840934715545, 9.915835912264667, 32.84196577464341, 29.02596805276056, 35.75265129008213, 25.203031686331155, 19.86097783711639, 16.785000759436777, 16.7463304155983, 10.672187941645998, 38.00839505494071, 41.03783685452107, 12.201943024921693, 42.39087256191793, 36.45595868282968, 19.021263614667088, 31.917731945707708, 35.614114230012795, 32.676854077238325, 31.14914272389977, 32.533964807875776, 31.892184640844043, 25.77129789206444, 37.144510006166755, 21.232199159093476, 16.765716537601236, 33.22749894513475, 43.08052785945417, 9.079359898037971, 7.565878875851681, 7.565673855205783, 6.809172164034272, 6.052763002863448, 6.052582071936829, 4.539487709927356, 11.349061669365033, 10.592263229272556, 15.154041639356613, 3.782824933469686, 3.782811885032576, 3.78275872396732, 3.7827484806007106, 3.782706407409587, 3.7825277525264145, 3.7824556688015085, 8.331796853297831, 3.026167508310482, 3.0261635991444074, 3.0261524700851274, 3.026143942270137, 3.026117544729996, 3.026159096412587, 3.0260911501155108, 3.026135918209649, 3.0260881876643655, 3.026133637760299, 3.026058104080307, 3.0258138561945485, 6.798517654467285, 34.71274183643055, 24.21255316651969, 29.590768725072852, 12.830300720238416, 9.098735524235511, 8.322213862611909, 10.571551234864229, 14.333469440619847, 9.099206737169743, 6.052443392248419, 25.028497226347472, 11.334483287202444, 13.588031405559512, 16.658186704871124, 18.119882143387414, 23.55752139751832, 12.891095306604191, 11.39347157387556, 21.971139885096356, 19.558492457763073, 20.431090836236034, 46.06153641790384, 31.14914272389977, 25.049302807947647, 21.17851799645627, 29.50184255308787, 26.42084746390969, 32.676854077238325, 43.08052785945417, 36.45595868282968, 18.21599677171515, 21.134829239277824, 28.093911220825277, 18.928485261395327, 38.00839505494071, 35.614114230012795, 43.89685746518463, 43.14001117347881, 40.86947776182772, 14.379462863447486, 10.594998174041262, 7.567911102836379, 7.567911126860023, 7.567895110417205, 7.567810417094103, 6.811018320802498, 12.854470412439163, 5.297347267021617, 5.297317194827915, 5.297081272516077, 4.540491186957446, 4.540491434174527, 4.540480191283529, 4.540480191283529, 4.540480191283529, 4.540459839055587, 4.540445051208458, 4.540247302429648, 4.540081006933893, 38.6593032329082, 3.7835798129370266, 3.783400464885157, 3.7834250809239305, 3.7829109913471846, 3.026752825555138, 3.0267532095472864, 31.10382590469706, 6.800224656204831, 27.31384614319412, 27.276341682629933, 18.88733906990517, 6.820131792255193, 28.763533743622435, 18.100723861101226, 26.440608853216535, 6.819912294296742, 10.583367398943013, 18.87961604655949, 31.892184640844043, 16.59509299948706, 22.784861945537678, 32.52915100534361, 19.559504290533273, 31.78269764275126, 18.927571668786978, 28.738945286898673, 11.336168905915976, 37.144510006166755, 21.987587974601396, 33.95479353972177, 41.03783685452107, 20.431090836236034, 18.93676720312483, 28.02790541391311, 46.06153641790384, 9.712160999720407, 9.711939403878365, 8.96588151364574, 8.219530526721131, 5.980603175250134, 5.9805581926621905, 5.980490066525671, 5.234231857089415, 5.234068736458467, 4.487757455276808, 4.48773446838972, 4.487677956152674, 9.721701891377005, 27.669441257599008, 3.7415802412129775, 3.7415799989620715, 3.7415699819787482, 3.741561893026182, 3.741509396930469, 3.741444961034131, 3.74134045899758, 3.741426616777983, 3.7412854411678493, 8.229123503079636, 17.95733432788452, 11.972268936183264, 2.995237088692188, 2.995237435021829, 2.9952356238449864, 2.9952325938806026, 10.493635223182174, 16.512208729081042, 11.259581524121751, 6.001636462525919, 27.116090420613183, 11.283307595792138, 12.750164066812138, 15.781640092264205, 25.572351525856394, 21.088180823354765, 12.03521800189421, 33.22749894513475, 20.356170123621176, 12.762600564873473, 42.39087256191793, 11.280678808220596, 11.298010427259399, 33.95479353972177, 32.533964807875776, 18.823402896773928, 21.814450913320933, 43.08052785945417, 46.06153641790384, 18.84160598154486, 19.559504290533273, 35.75265129008213, 19.558492457763073, 35.614114230012795, 21.16976633783068], \"Category\": [\"Default\", \"Default\", \"Default\", \"Default\", \"Default\", \"Default\", \"Default\", \"Default\", \"Default\", \"Default\", \"Default\", \"Default\", \"Default\", \"Default\", \"Default\", \"Default\", \"Default\", \"Default\", \"Default\", \"Default\", \"Default\", \"Default\", \"Default\", \"Default\", \"Default\", \"Default\", \"Default\", \"Default\", \"Default\", \"Default\", \"Topic1\", \"Topic1\", \"Topic1\", \"Topic1\", \"Topic1\", \"Topic1\", \"Topic1\", \"Topic1\", \"Topic1\", \"Topic1\", \"Topic1\", \"Topic1\", \"Topic1\", \"Topic1\", \"Topic1\", \"Topic1\", \"Topic1\", \"Topic1\", \"Topic1\", \"Topic1\", \"Topic1\", \"Topic1\", \"Topic1\", \"Topic1\", \"Topic1\", \"Topic1\", \"Topic1\", \"Topic1\", \"Topic1\", \"Topic1\", \"Topic1\", \"Topic1\", \"Topic1\", \"Topic1\", \"Topic1\", \"Topic1\", \"Topic1\", \"Topic1\", \"Topic1\", \"Topic1\", \"Topic1\", \"Topic1\", \"Topic1\", \"Topic1\", \"Topic1\", \"Topic1\", \"Topic1\", \"Topic1\", \"Topic1\", \"Topic1\", \"Topic1\", \"Topic1\", \"Topic1\", \"Topic1\", \"Topic1\", \"Topic1\", \"Topic1\", \"Topic1\", \"Topic1\", \"Topic1\", \"Topic2\", \"Topic2\", \"Topic2\", \"Topic2\", \"Topic2\", \"Topic2\", \"Topic2\", \"Topic2\", \"Topic2\", \"Topic2\", \"Topic2\", \"Topic2\", \"Topic2\", \"Topic2\", \"Topic2\", \"Topic2\", \"Topic2\", \"Topic2\", \"Topic2\", \"Topic2\", \"Topic2\", \"Topic2\", \"Topic2\", \"Topic2\", \"Topic2\", \"Topic2\", \"Topic2\", \"Topic2\", \"Topic2\", \"Topic2\", \"Topic2\", \"Topic2\", \"Topic2\", \"Topic2\", \"Topic2\", \"Topic2\", \"Topic2\", \"Topic2\", \"Topic2\", \"Topic2\", \"Topic2\", \"Topic2\", \"Topic2\", \"Topic2\", \"Topic2\", \"Topic2\", \"Topic2\", \"Topic2\", \"Topic2\", \"Topic2\", \"Topic2\", \"Topic2\", \"Topic2\", \"Topic2\", \"Topic2\", \"Topic2\", \"Topic2\", \"Topic2\", \"Topic2\", \"Topic2\", \"Topic2\", \"Topic2\", \"Topic2\", \"Topic2\", \"Topic2\", \"Topic2\", \"Topic2\", \"Topic3\", \"Topic3\", \"Topic3\", \"Topic3\", \"Topic3\", \"Topic3\", \"Topic3\", \"Topic3\", \"Topic3\", \"Topic3\", \"Topic3\", \"Topic3\", \"Topic3\", \"Topic3\", \"Topic3\", \"Topic3\", \"Topic3\", \"Topic3\", \"Topic3\", \"Topic3\", \"Topic3\", \"Topic3\", \"Topic3\", \"Topic3\", \"Topic3\", \"Topic3\", \"Topic3\", \"Topic3\", \"Topic3\", \"Topic3\", \"Topic3\", \"Topic3\", \"Topic3\", \"Topic3\", \"Topic3\", \"Topic3\", \"Topic3\", \"Topic3\", \"Topic3\", \"Topic3\", \"Topic3\", \"Topic3\", \"Topic3\", \"Topic3\", \"Topic3\", \"Topic3\", \"Topic3\", \"Topic3\", \"Topic3\", \"Topic3\", \"Topic3\", \"Topic3\", \"Topic3\", \"Topic3\", \"Topic3\", \"Topic3\", \"Topic3\", \"Topic3\", \"Topic3\", \"Topic4\", \"Topic4\", \"Topic4\", \"Topic4\", \"Topic4\", \"Topic4\", \"Topic4\", \"Topic4\", \"Topic4\", \"Topic4\", \"Topic4\", \"Topic4\", \"Topic4\", \"Topic4\", \"Topic4\", \"Topic4\", \"Topic4\", \"Topic4\", \"Topic4\", \"Topic4\", \"Topic4\", \"Topic4\", \"Topic4\", \"Topic4\", \"Topic4\", \"Topic4\", \"Topic4\", \"Topic4\", \"Topic4\", \"Topic4\", \"Topic4\", \"Topic4\", \"Topic4\", \"Topic4\", \"Topic4\", \"Topic4\", \"Topic4\", \"Topic4\", \"Topic4\", \"Topic4\", \"Topic4\", \"Topic4\", \"Topic4\", \"Topic4\", \"Topic4\", \"Topic4\", \"Topic4\", \"Topic4\", \"Topic4\", \"Topic4\", \"Topic4\", \"Topic4\", \"Topic4\", \"Topic4\", \"Topic4\", \"Topic4\", \"Topic4\", \"Topic4\", \"Topic4\"], \"logprob\": [30.0, 29.0, 28.0, 27.0, 26.0, 25.0, 24.0, 23.0, 22.0, 21.0, 20.0, 19.0, 18.0, 17.0, 16.0, 15.0, 14.0, 13.0, 12.0, 11.0, 10.0, 9.0, 8.0, 7.0, 6.0, 5.0, 4.0, 3.0, 2.0, 1.0, -5.2877, -5.5858, -5.777, -5.8544, -6.2087, -6.2094, -6.2102, -6.2103, -5.3815, -6.3238, -6.4523, -6.4527, -6.4534, -6.6008, -6.601, -6.601, -6.4695, -6.7751, -6.7751, -6.7753, -6.37, -6.7772, -6.1023, -6.1079, -6.1102, -6.9865, -6.9865, -6.9865, -6.9865, -6.9865, -5.715, -6.2142, -5.6568, -6.1051, -5.0111, -5.1263, -4.9411, -5.2804, -5.4878, -5.6778, -5.7727, -6.1027, -5.3038, -5.2618, -6.0366, -5.3179, -5.4313, -5.8049, -5.538, -5.5726, -5.6244, -5.646, -5.6346, -5.6801, -5.7593, -5.6352, -5.8699, -5.9378, -5.8374, -5.847, -5.9611, -6.1576, -6.158, -6.2718, -6.4003, -6.401, -6.723, -5.8077, -5.8868, -5.5457, -6.9343, -6.9343, -6.9347, -6.9348, -6.935, -6.9365, -6.9368, -6.1533, -7.2026, -7.2026, -7.2026, -7.2026, -7.2027, -7.2027, -7.2027, -7.2028, -7.2029, -7.2029, -7.2034, -7.2079, -6.3996, -4.7898, -5.1698, -4.9772, -5.8063, -6.153, -6.2382, -6.0114, -5.7299, -6.1593, -6.5469, -5.2308, -5.9859, -5.8803, -5.7213, -5.6629, -5.5114, -6.007, -6.1003, -5.6394, -5.7266, -5.7041, -5.1641, -5.4511, -5.6129, -5.746, -5.5926, -5.6531, -5.5676, -5.479, -5.6041, -5.8783, -5.8632, -5.7975, -5.9156, -5.825, -5.8706, -4.3279, -4.3455, -4.4003, -5.4715, -5.792, -6.1507, -6.1507, -6.1508, -6.1511, -6.2652, -5.6523, -6.5428, -6.5429, -6.5446, -6.7172, -6.7172, -6.7172, -6.7172, -6.7172, -6.7172, -6.7174, -6.7185, -6.7198, -4.5904, -6.9286, -6.9304, -6.931, -6.9333, -7.1969, -7.1969, -4.8864, -6.392, -5.0321, -5.0621, -5.4376, -6.3913, -5.0849, -5.525, -5.2458, -6.3928, -6.0484, -5.6807, -5.3132, -5.7888, -5.6058, -5.4157, -5.7311, -5.4365, -5.7937, -5.5951, -6.1121, -5.572, -5.868, -5.7384, -5.7083, -5.8994, -5.9509, -5.8701, -5.7902, -5.8057, -5.8063, -5.8918, -5.9848, -6.3295, -6.3298, -6.3304, -6.4781, -6.4793, -6.6533, -6.6536, -6.6569, -5.8891, -4.8502, -6.8636, -6.8636, -6.8637, -6.8637, -6.8645, -6.8653, -6.8656, -6.866, -6.8671, -6.083, -5.3237, -5.7326, -7.132, -7.132, -7.132, -7.132, -5.9303, -5.5477, -5.9097, -6.4892, -5.2217, -5.9857, -5.9026, -5.7696, -5.4468, -5.5983, -6.0161, -5.3464, -5.6946, -6.0177, -5.3032, -6.1085, -6.1086, -5.4896, -5.5254, -5.8374, -5.7662, -5.4377, -5.5421, -5.8855, -5.8754, -5.7036, -5.8893, -5.8239, -5.8986], \"loglift\": [30.0, 29.0, 28.0, 27.0, 26.0, 25.0, 24.0, 23.0, 22.0, 21.0, 20.0, 19.0, 18.0, 17.0, 16.0, 15.0, 14.0, 13.0, 12.0, 11.0, 10.0, 9.0, 8.0, 7.0, 6.0, 5.0, 4.0, 3.0, 2.0, 1.0, 1.2842, 1.2741, 1.2653, 1.257, 1.2395, 1.2389, 1.238, 1.238, 1.2344, 1.2299, 1.2194, 1.219, 1.2183, 1.2047, 1.2045, 1.2045, 1.2026, 1.1848, 1.1848, 1.1847, 1.1843, 1.1829, 1.1644, 1.159, 1.1566, 1.1563, 1.1563, 1.1563, 1.1562, 1.1562, 1.1464, 1.1398, 1.0997, 1.0846, 0.981, 0.9893, 0.9661, 0.9764, 1.0073, 0.9855, 0.8929, 1.0135, 0.5422, 0.5075, 0.9456, 0.4189, 0.4563, 0.7333, 0.4827, 0.3385, 0.3727, 0.399, 0.367, 0.3414, 0.4753, 0.2337, 0.5584, 0.7267, 0.143, -0.1263, 1.3167, 1.3026, 1.3022, 1.2937, 1.283, 1.2823, 1.248, 1.247, 1.2368, 1.2198, 1.219, 1.219, 1.2186, 1.2186, 1.2183, 1.2169, 1.2166, 1.2104, 1.1739, 1.1739, 1.1739, 1.1739, 1.1738, 1.1738, 1.1738, 1.1737, 1.1736, 1.1736, 1.1731, 1.1687, 1.1675, 1.1469, 1.1271, 1.1191, 1.1257, 1.1227, 1.1266, 1.1142, 1.0913, 1.1163, 1.1364, 1.033, 1.07, 0.9943, 0.9496, 0.9238, 0.813, 0.9202, 0.9504, 0.7547, 0.7838, 0.7626, 0.4897, 0.5939, 0.65, 0.6848, 0.5068, 0.5565, 0.4295, 0.2417, 0.2836, 0.7032, 0.5697, 0.3508, 0.6275, 0.021, 0.0404, 1.3741, 1.3738, 1.3731, 1.3465, 1.3314, 1.3091, 1.3091, 1.3091, 1.3088, 1.3001, 1.2778, 1.2738, 1.2737, 1.272, 1.2536, 1.2536, 1.2536, 1.2536, 1.2536, 1.2536, 1.2534, 1.2523, 1.2511, 1.2386, 1.2246, 1.2228, 1.2221, 1.22, 1.1795, 1.1795, 1.16, 1.1749, 1.1443, 1.1157, 1.1077, 1.1727, 1.0398, 1.0629, 0.963, 1.1711, 1.0761, 0.865, 0.7082, 0.8859, 0.7519, 0.586, 0.7793, 0.5883, 0.7495, 0.5305, 0.9437, 0.297, 0.5253, 0.2203, 0.061, 0.5673, 0.5918, 0.2805, -0.1364, 1.4048, 1.4042, 1.3986, 1.3924, 1.3658, 1.3655, 1.3649, 1.3505, 1.3493, 1.3292, 1.3288, 1.3256, 1.3203, 1.3133, 1.3006, 1.3006, 1.3006, 1.3006, 1.2998, 1.299, 1.2987, 1.2984, 1.2973, 1.2931, 1.2721, 1.2686, 1.2548, 1.2548, 1.2548, 1.2548, 1.2027, 1.132, 1.1529, 1.2025, 0.9619, 1.0748, 1.0356, 0.9554, 0.7955, 0.8368, 0.9799, 0.634, 0.7758, 0.9196, 0.4337, 0.9522, 0.9506, 0.4692, 0.4761, 0.7112, 0.6351, 0.283, 0.1117, 0.6622, 0.635, 0.2036, 0.6211, 0.0871, 0.5326]}, \"token.table\": {\"Topic\": [2, 4, 1, 2, 3, 4, 1, 3, 4, 2, 2, 1, 3, 1, 3, 4, 1, 2, 3, 4, 1, 2, 2, 2, 3, 4, 1, 2, 4, 4, 1, 2, 4, 3, 4, 2, 4, 1, 2, 3, 4, 2, 3, 1, 2, 4, 3, 1, 3, 1, 3, 4, 4, 1, 2, 4, 2, 4, 4, 3, 4, 1, 2, 3, 4, 4, 1, 2, 3, 4, 2, 4, 1, 2, 4, 2, 1, 3, 4, 2, 2, 1, 2, 1, 2, 3, 1, 3, 4, 2, 1, 2, 3, 4, 1, 2, 3, 4, 3, 4, 2, 3, 4, 1, 2, 3, 4, 1, 2, 4, 1, 3, 1, 1, 2, 3, 4, 3, 1, 1, 2, 3, 4, 1, 4, 1, 2, 3, 3, 4, 1, 2, 3, 4, 2, 4, 1, 2, 3, 4, 1, 2, 3, 2, 1, 2, 3, 2, 3, 3, 1, 3, 1, 1, 3, 2, 3, 4, 1, 2, 3, 4, 2, 3, 2, 2, 2, 2, 3, 4, 1, 3, 4, 1, 1, 2, 3, 4, 1, 4, 1, 1, 3, 1, 2, 4, 1, 2, 4, 2, 3, 4, 4, 2, 3, 4, 2, 4, 2, 4, 1, 2, 3, 4, 2, 3, 3, 3, 1, 2, 1, 2, 1, 2, 3, 4, 1, 2, 3, 4, 1, 2, 4, 1, 2, 3, 1, 2, 1, 2, 1, 2, 3, 2, 4, 1, 2, 3, 1, 3, 4, 1, 3, 3, 4, 1, 2, 3, 4, 1, 3, 1, 2, 3, 4, 1, 3, 1, 1, 2, 3, 4, 1, 2, 3, 4, 1, 2, 3, 4, 1, 2, 3, 2, 1, 3, 4, 1, 2, 4, 1, 2, 4, 1, 2, 4, 1, 2, 3, 4, 1, 2, 1, 1, 3, 2, 4, 1, 2, 3, 4, 1, 2, 4, 1, 3, 4, 1, 2, 3, 4, 1, 2, 3, 2, 3, 1, 2, 3, 4, 1, 4, 1, 2, 4, 1, 2, 3, 2, 3, 3, 1, 2, 3, 4, 4, 3, 4, 4, 1, 3, 3, 3, 3, 1, 2, 3, 4, 1, 3, 4, 3, 4, 1, 3, 1, 1, 2, 4, 1, 3, 4, 1, 2, 3, 4, 1, 3, 4, 2, 1, 3, 2, 3, 1, 2, 1, 3, 1, 3, 4, 1, 1, 1, 2, 3, 4, 2, 3, 1, 2, 3, 4, 1, 4, 1, 2, 3, 4, 2, 4, 1, 2, 3, 4, 4, 1, 3, 4, 3, 1, 2, 3, 4, 3, 1, 3, 4, 2, 3, 4, 1, 3, 4, 1, 4, 3, 4, 1, 2, 3, 4, 2, 1, 1, 2, 3, 1, 2, 3, 4, 1, 2, 3, 4, 1, 2, 3, 4, 4, 2, 3, 4, 4], \"Freq\": [0.925231530458248, 0.9732915978586061, 0.14165297120893822, 0.5193942277661068, 0.23608828534823034, 0.14165297120893822, 0.09448788483898542, 0.7559030787118833, 0.18897576967797083, 0.7930719929326154, 0.7931355348708069, 0.8169298008455566, 0.9249703169345339, 0.21966880711506973, 0.768840824902744, 0.9552797740640974, 0.40102972580168217, 0.09435993548274875, 0.14153990322412313, 0.3538497580603078, 0.9142268785023014, 0.6609186243195804, 0.9912593069413274, 0.8811301137778986, 0.08811301137778986, 0.9266944145477206, 0.38204358803843047, 0.5518407382777328, 0.042449287559825605, 0.836042362422745, 0.12390267062576035, 0.7847169139631489, 0.12390267062576035, 0.9438415973021059, 0.9266732707848533, 0.3137214532330407, 0.6274429064660814, 0.41145537086272865, 0.32916429669018293, 0.10972143223006098, 0.13715179028757624, 0.7931204200673079, 0.8810415483536421, 0.9799173090307031, 0.5624155350293334, 0.4090294800213334, 0.978725498600821, 0.8714520444085682, 0.10893150555107102, 0.17729429531692145, 0.17729429531692145, 0.6205300336092251, 0.801833179500797, 0.17762649488485321, 0.08881324744242661, 0.7105059795394129, 0.7354544408242457, 0.14709088816484914, 0.8360360742026458, 0.5623864407097453, 0.46013436058070073, 0.16948093974139472, 0.40675425537934734, 0.23727331563795262, 0.16948093974139472, 0.8018041892054857, 0.2744840187808849, 0.4940712338055928, 0.16469041126853093, 0.054896803756176976, 0.7930829614805904, 0.955250003537355, 0.2950277815093336, 0.1106354180660001, 0.5900555630186672, 0.660903784725309, 0.26553347771406877, 0.08851115923802291, 0.6195781146661604, 0.6609093448629847, 0.660901947597939, 0.35107824459506465, 0.6143869280413631, 0.09102850423143755, 0.5461710253886253, 0.3641140169257502, 0.7141997924702959, 0.27774436373844835, 0.8913137663660295, 0.660907094359712, 0.4386196100883658, 0.17057429281214226, 0.26804531727622355, 0.12183878058010161, 0.349984425634952, 0.13460939447498155, 0.3230625467399557, 0.18845315226497417, 0.12151962473594713, 0.8506373731516299, 0.10589104122066474, 0.7412372885446532, 0.10589104122066474, 0.37789741617052636, 0.09447435404263159, 0.14171153106394738, 0.37789741617052636, 0.12002212939267563, 0.8401549057487294, 0.8913183318163814, 0.8715347853745051, 0.10894184817181314, 0.9573475029496266, 0.15922209619171881, 0.15922209619171881, 0.21229612825562508, 0.42459225651125015, 0.8809709081129357, 0.9142933391028099, 0.3650238193778975, 0.2527087980308521, 0.1123150213470454, 0.2527087980308521, 0.2658794838774744, 0.7090119570065984, 0.1551458547494709, 0.6205834189978836, 0.1551458547494709, 0.7182033215774993, 0.27623204676057667, 0.23212343248494957, 0.3249728054789294, 0.13927405949096974, 0.30176046223043446, 0.14456381546560715, 0.8673828927936429, 0.5783001709475295, 0.1577182284402353, 0.1577182284402353, 0.10514548562682355, 0.5368097438493183, 0.1789365812831061, 0.23858210837747482, 0.6609192713394337, 0.052832979185020175, 0.4226638334801614, 0.5283297918502018, 0.8260937134884645, 0.8809640900270632, 0.9249580108540741, 0.8708558408478254, 0.8809680388742295, 0.8715061097086523, 0.9334481039622822, 0.9249580079178793, 0.6070679661685486, 0.16556399077324055, 0.16556399077324055, 0.10855043901784679, 0.41249166826781786, 0.21710087803569358, 0.2605210536428323, 0.8496767692789006, 0.09440852991987785, 0.660908846811897, 0.8811566977596268, 0.6609258418743579, 0.2350618108551407, 0.1567078739034271, 0.5484775586619949, 0.78470708656997, 0.167062657810048, 0.83531328905024, 0.9142599328321308, 0.30722152351556914, 0.17555515629461094, 0.5266654688838328, 0.6677271010260616, 0.9090237217589628, 0.05681398260993518, 0.9798834878816465, 0.19290231428069837, 0.8037596428362432, 0.7149240069741088, 0.1787310017435272, 0.05957700058117574, 0.245625771922491, 0.245625771922491, 0.491251543844982, 0.756747975984505, 0.09459349699806313, 0.18918699399612626, 0.8018024557737752, 0.27504703298931615, 0.27504703298931615, 0.45841172164886024, 0.6609028013440726, 0.8922714389906107, 0.7674345730160016, 0.20930033809527318, 0.7003234872669472, 0.15224423636237983, 0.12179538908990385, 0.8018292481231111, 0.8261126417809507, 0.16522252835619014, 0.8809255411447872, 0.8809640900270632, 0.8715272743494089, 0.14525454572490148, 0.8715161035171206, 0.10893951293964008, 0.10625071412261873, 0.053125357061309365, 0.3718774994291656, 0.4781282135517843, 0.12296662766707052, 0.2766749122509087, 0.46112485375151446, 0.15370828458383815, 0.9787760731961126, 0.16705271245248154, 0.8352635622624077, 0.8713454946130949, 0.7930581120623886, 0.6607741415532268, 0.8715726590380785, 0.793060847638255, 0.2197993800745414, 0.7692978302608949, 0.034766242872426065, 0.2781299429794085, 0.6953248574485212, 0.881164384665102, 0.8018516445851047, 0.7847835217980597, 0.13079725363300995, 0.06539862681650498, 0.6568603226503936, 0.11942914957279883, 0.17914372435919826, 0.9142824093067194, 0.7929323128733359, 0.7930400706921282, 0.6677266972611219, 0.4268314326298307, 0.15521143004721116, 0.11640857253540837, 0.27162000258261954, 0.7847052686608238, 0.8810092784724429, 0.2202456216486867, 0.1258546409421067, 0.4404912432973734, 0.18878196141316, 0.14662473255070824, 0.8797483953042493, 0.784704610965152, 0.15849128752623984, 0.47547386257871954, 0.3169825750524797, 0.10566085835082657, 0.3203541126494533, 0.35594901405494805, 0.2847592112439585, 0.03559490140549481, 0.17670553622954424, 0.14725461352462021, 0.32396014975416443, 0.38286199516401254, 0.19977228176274625, 0.7191802143458865, 0.07990891270509849, 0.7930741405052635, 0.3638416368926446, 0.4093218415042252, 0.1819208184463223, 0.7496119861965381, 0.09370149827456727, 0.18740299654913453, 0.8714926169390462, 0.8260690196583931, 0.801815439100914, 0.16617895909199337, 0.16617895909199337, 0.5816263568219768, 0.3009555433742396, 0.12038221734969583, 0.1504777716871198, 0.42133776072393536, 0.7552498231969149, 0.2517499410656383, 0.9798648806193536, 0.7234900817718898, 0.2756152692464342, 0.7794049584688283, 0.15588099169376565, 0.11354669845840241, 0.45418679383360966, 0.1892444974306707, 0.264942296402939, 0.09529586065568915, 0.09529586065568915, 0.7623668852455132, 0.9426859535557074, 0.7352698260399052, 0.14705396520798103, 0.13918395264921202, 0.27836790529842403, 0.41755185794763605, 0.17397994081151502, 0.10561464787241891, 0.42245859148967563, 0.4752659154258851, 0.6609052318978954, 0.880961908636925, 0.1267295406755825, 0.1267295406755825, 0.1267295406755825, 0.5702829330401212, 0.166621221769092, 0.83310610884546, 0.08822634209793062, 0.705810736783445, 0.17645268419586124, 0.20276593878806803, 0.7772694320209275, 0.7929374719498702, 0.6609791927238129, 0.7928998853789824, 0.8809640900270632, 0.47098277126498833, 0.18839310850599533, 0.09419655425299767, 0.282589662758993, 0.6677267744682145, 0.9335273733554749, 0.07779394777962291, 0.8913295559713548, 0.1466294516479729, 0.7331472582398645, 0.660774057723438, 0.9439160440944179, 0.9795689824517405, 0.3852433470277425, 0.4494505715323662, 0.06420722450462375, 0.09631083675693562, 0.12112249989170931, 0.12112249989170931, 0.7267349993502559, 0.9438686474506329, 0.8360518861131926, 0.8320906371660389, 0.11887009102371984, 0.9334369510988931, 0.18009163020863198, 0.6603359774316506, 0.12006108680575465, 0.10593435772569475, 0.5826389674913212, 0.2648358943142369, 0.06025877649681801, 0.06025877649681801, 0.6025877649681801, 0.30129388248409006, 0.14664723174909017, 0.7698979666827234, 0.07332361587454508, 0.9252064584779676, 0.8714926127466683, 0.9438740056724934, 0.5383951394553391, 0.4405051140998229, 0.13197799290756818, 0.8578569538991931, 0.12933497455649481, 0.8536108320728658, 0.18967970890927088, 0.23709963613658858, 0.5216191995004948, 0.9334459548317745, 0.7847053006849549, 0.43862765762348344, 0.25064437578484766, 0.21931382881174172, 0.09399164091931787, 0.720962005909917, 0.1201603343183195, 0.39958240800865985, 0.09221132492507536, 0.15368554154179226, 0.36884529970030144, 0.6992488416358387, 0.27969953665433545, 0.07820946767362341, 0.23462840302087024, 0.19552366918405853, 0.5083615398785521, 0.7778123700866483, 0.20165505891135327, 0.39783511501051727, 0.39783511501051727, 0.15301350577327588, 0.061205402309310354, 0.6677277764959194, 0.7847092727994047, 0.9736107762125052, 0.8018634362909087, 0.9967544938058596, 0.31937016616134156, 0.47905524924201237, 0.11976381231050309, 0.07984254154033539, 0.9249599654684038, 0.08821322338256028, 0.617492563677922, 0.17642644676512056, 0.6623476007214459, 0.14718835571587688, 0.14718835571587688, 0.37626773252252227, 0.5016903100300297, 0.09406693313063057, 0.8067902767637558, 0.20169756919093895, 0.10286264803974128, 0.8229011843179302, 0.04731526281468882, 0.42583736533219935, 0.28389157688813293, 0.2365763140734441, 0.6609128596088455, 0.9326053485470694, 0.21981076322888754, 0.7693376713011064, 0.8809619566028437, 0.655633285916883, 0.16390832147922074, 0.08195416073961037, 0.08195416073961037, 0.35678727512174274, 0.07135745502434855, 0.3211085476095685, 0.24975109258521994, 0.4735795861409354, 0.2630997700782975, 0.18416983905480822, 0.10523990803131898, 0.8018002572697557, 0.18910305839616637, 0.6429503985469657, 0.11346183503769983, 0.8018003091828082], \"Term\": [\"accelerator\", \"account\", \"activity\", \"activity\", \"activity\", \"activity\", \"advice\", \"advice\", \"advice\", \"agtech\", \"alternative\", \"amazon\", \"ambassador\", \"angel\", \"angel\", \"angelinvestor\", \"announce\", \"announce\", \"announce\", \"announce\", \"announces\", \"api\", \"application\", \"area\", \"area\", \"artificialintelligence\", \"asset\", \"asset\", \"asset\", \"b2b\", \"bank\", \"bank\", \"bank\", \"bigdata\", \"biotech\", \"bitcoin\", \"bitcoin\", \"blockchain\", \"blockchain\", \"blockchain\", \"blockchain\", \"bond\", \"bring\", \"btc\", \"building\", \"building\", \"businessangels\", \"cap\", \"cap\", \"career\", \"career\", \"career\", \"carry\", \"cash\", \"cash\", \"cash\", \"category\", \"category\", \"ccp\", \"change\", \"change\", \"check\", \"check\", \"check\", \"check\", \"cheque\", \"class\", \"class\", \"class\", \"class\", \"co-founder\", \"commitment\", \"community\", \"community\", \"community\", \"competitor\", \"congrats\", \"congrats\", \"congrats\", \"cooperation\", \"corporation\", \"course\", \"course\", \"covid19\", \"covid19\", \"covid19\", \"crypto\", \"crypto\", \"cvcaawards\", \"daos\", \"data\", \"data\", \"data\", \"data\", \"day\", \"day\", \"day\", \"day\", \"debt\", \"debt\", \"decade\", \"decade\", \"decade\", \"decision\", \"decision\", \"decision\", \"decision\", \"defi\", \"defi\", \"definition\", \"destination\", \"destination\", \"detail\", \"dollar\", \"dollar\", \"dollar\", \"dollar\", \"dtc\", \"economy\", \"ecosystem\", \"ecosystem\", \"ecosystem\", \"ecosystem\", \"edtech\", \"edtech\", \"education\", \"education\", \"education\", \"energy\", \"energy\", \"equity\", \"equity\", \"equity\", \"equity\", \"europe\", \"europe\", \"event\", \"event\", \"event\", \"event\", \"everyone\", \"everyone\", \"everyone\", \"exception\", \"exit\", \"exit\", \"exit\", \"expectation\", \"expenditure\", \"exporter\", \"ey\", \"factor\", \"fall\", \"fellowship\", \"fieo\", \"finance\", \"finance\", \"finance\", \"fintech\", \"fintech\", \"fintech\", \"fintech\", \"focus\", \"focus\", \"fomo\", \"form\", \"format\", \"friend\", \"friend\", \"friend\", \"fuel\", \"game\", \"game\", \"gdp\", \"get\", \"get\", \"get\", \"girl\", \"google\", \"google\", \"govt\", \"gt\", \"gt\", \"health\", \"health\", \"health\", \"help\", \"help\", \"help\", \"home\", \"home\", \"home\", \"hospital\", \"idea\", \"idea\", \"idea\", \"ii\", \"inclusion\", \"increase\", \"increase\", \"india\", \"india\", \"india\", \"influence\", \"infrastructure\", \"infrastructure\", \"intelligentassistant\", \"intensity\", \"issue\", \"issue\", \"ji\", \"ji\", \"job\", \"job\", \"job\", \"job\", \"join\", \"join\", \"join\", \"join\", \"journey\", \"kind\", \"kind\", \"knife10x\", \"latin\", \"lebanon\", \"leverage\", \"listing\", \"loan\", \"loan\", \"lot\", \"lot\", \"lot\", \"man\", \"marriage\", \"medium\", \"medium\", \"medium\", \"meeting\", \"meeting\", \"meeting\", \"memo\", \"message\", \"milestone\", \"mine\", \"model\", \"model\", \"model\", \"model\", \"modi\", \"momentum\", \"month\", \"month\", \"month\", \"month\", \"mr\", \"mr\", \"msmes\", \"need\", \"need\", \"need\", \"need\", \"network\", \"network\", \"network\", \"network\", \"news\", \"news\", \"news\", \"news\", \"number\", \"number\", \"number\", \"odds\", \"office\", \"office\", \"office\", \"one\", \"one\", \"one\", \"openness\", \"pandemic\", \"participant\", \"path\", \"path\", \"path\", \"pe\", \"pe\", \"pe\", \"pe\", \"pe/vc\", \"pe/vc\", \"pichai\", \"pitch\", \"pitch\", \"place\", \"place\", \"platform\", \"platform\", \"platform\", \"platform\", \"please\", \"please\", \"please\", \"pm\", \"press\", \"press\", \"product\", \"product\", \"product\", \"product\", \"project\", \"project\", \"project\", \"property\", \"psychology\", \"question\", \"question\", \"question\", \"question\", \"r\", \"r\", \"rate\", \"rate\", \"rate\", \"record\", \"record\", \"regtech\", \"rejection\", \"reliance\", \"renewables\", \"research\", \"research\", \"research\", \"research\", \"retainer\", \"revenue\", \"revenue\", \"robotics\", \"roi\", \"roi\", \"sanjay\", \"scholarship\", \"search\", \"sector\", \"sector\", \"sector\", \"sector\", \"see\", \"see\", \"see\", \"seek\", \"sequoia\", \"shri\", \"shri\", \"simulation\", \"software\", \"software\", \"software\", \"something\", \"something\", \"something\", \"source\", \"source\", \"source\", \"source\", \"space\", \"space\", \"space\", \"speak\", \"speaks\", \"spend\", \"state\", \"state\", \"stock\", \"stock\", \"strategy\", \"strategy\", \"success\", \"success\", \"success\", \"summit\", \"sundar\", \"support\", \"support\", \"support\", \"support\", \"talent\", \"talent\", \"technology\", \"technology\", \"technology\", \"technology\", \"term\", \"term\", \"thanks\", \"thanks\", \"thanks\", \"thanks\", \"thesis\", \"thesis\", \"thing\", \"thing\", \"thing\", \"thing\", \"tikto\", \"track\", \"trade\", \"travel\", \"traveltech\", \"trend\", \"trend\", \"trend\", \"trend\", \"turkey\", \"tweet\", \"tweet\", \"tweet\", \"valuation\", \"valuation\", \"valuation\", \"value\", \"value\", \"value\", \"vc/pe\", \"vc/pe\", \"vehicle\", \"vehicle\", \"venturecapital\", \"venturecapital\", \"venturecapital\", \"venturecapital\", \"venturemonitor\", \"vision\", \"voice\", \"voice\", \"volatility\", \"volume\", \"volume\", \"volume\", \"volume\", \"week\", \"week\", \"week\", \"week\", \"work\", \"work\", \"work\", \"work\", \"yiming\", \"\\u201d\", \"\\u201d\", \"\\u201d\", \"\\ud83d\\udd25tiktok\"]}, \"R\": 30, \"lambda.step\": 0.01, \"plot.opts\": {\"xlab\": \"PC1\", \"ylab\": \"PC2\"}, \"topic.order\": [4, 2, 1, 3]};\n",
       "\n",
       "function LDAvis_load_lib(url, callback){\n",
       "  var s = document.createElement('script');\n",
       "  s.src = url;\n",
       "  s.async = true;\n",
       "  s.onreadystatechange = s.onload = callback;\n",
       "  s.onerror = function(){console.warn(\"failed to load library \" + url);};\n",
       "  document.getElementsByTagName(\"head\")[0].appendChild(s);\n",
       "}\n",
       "\n",
       "if(typeof(LDAvis) !== \"undefined\"){\n",
       "   // already loaded: just create the visualization\n",
       "   !function(LDAvis){\n",
       "       new LDAvis(\"#\" + \"ldavis_el487181406463752220643422904750\", ldavis_el487181406463752220643422904750_data);\n",
       "   }(LDAvis);\n",
       "}else if(typeof define === \"function\" && define.amd){\n",
       "   // require.js is available: use it to load d3/LDAvis\n",
       "   require.config({paths: {d3: \"https://d3js.org/d3.v5\"}});\n",
       "   require([\"d3\"], function(d3){\n",
       "      window.d3 = d3;\n",
       "      LDAvis_load_lib(\"https://cdn.jsdelivr.net/gh/bmabey/pyLDAvis@3.3.1/pyLDAvis/js/ldavis.v3.0.0.js\", function(){\n",
       "        new LDAvis(\"#\" + \"ldavis_el487181406463752220643422904750\", ldavis_el487181406463752220643422904750_data);\n",
       "      });\n",
       "    });\n",
       "}else{\n",
       "    // require.js not available: dynamically load d3 & LDAvis\n",
       "    LDAvis_load_lib(\"https://d3js.org/d3.v5.js\", function(){\n",
       "         LDAvis_load_lib(\"https://cdn.jsdelivr.net/gh/bmabey/pyLDAvis@3.3.1/pyLDAvis/js/ldavis.v3.0.0.js\", function(){\n",
       "                 new LDAvis(\"#\" + \"ldavis_el487181406463752220643422904750\", ldavis_el487181406463752220643422904750_data);\n",
       "            })\n",
       "         });\n",
       "}\n",
       "</script>"
      ],
      "text/plain": [
       "PreparedData(topic_coordinates=              x         y  topics  cluster       Freq\n",
       "topic                                                \n",
       "3     -0.043159  0.095660       1        1  26.815821\n",
       "1     -0.066389  0.021722       2        1  25.118179\n",
       "0      0.147328  0.006137       3        1  24.980342\n",
       "2     -0.037779 -0.123519       4        1  23.085658, topic_info=                Term       Freq      Total Category  logprob  loglift\n",
       "1702          search  43.000000  43.000000  Default  30.0000  30.0000\n",
       "2428      traveltech  43.000000  43.000000  Default  29.0000  29.0000\n",
       "2427  businessangels  40.000000  40.000000  Default  28.0000  28.0000\n",
       "14          strategy  38.000000  38.000000  Default  27.0000  27.0000\n",
       "188           thesis  34.000000  34.000000  Default  26.0000  26.0000\n",
       "...              ...        ...        ...      ...      ...      ...\n",
       "346           change   8.520346  19.559504   Topic4  -5.8754   0.6350\n",
       "178             term  10.117676  35.752651   Topic4  -5.7036   0.2036\n",
       "915         building   8.402840  19.558492   Topic4  -5.8893   0.6211\n",
       "60         ecosystem   8.970052  35.614114   Topic4  -5.8239   0.0871\n",
       "322         decision   8.324719  21.169766   Topic4  -5.8986   0.5326\n",
       "\n",
       "[275 rows x 6 columns], token_table=      Topic      Freq         Term\n",
       "term                              \n",
       "1047      2  0.925232  accelerator\n",
       "1264      4  0.973292      account\n",
       "214       1  0.141653     activity\n",
       "214       2  0.519394     activity\n",
       "214       3  0.236088     activity\n",
       "...     ...       ...          ...\n",
       "2751      4  0.801800       yiming\n",
       "165       2  0.189103            ”\n",
       "165       3  0.642950            ”\n",
       "165       4  0.113462            ”\n",
       "2752      4  0.801800      🔥tiktok\n",
       "\n",
       "[454 rows x 3 columns], R=30, lambda_step=0.01, plot_opts={'xlab': 'PC1', 'ylab': 'PC2'}, topic_order=[4, 2, 1, 3])"
      ]
     },
     "execution_count": 17,
     "metadata": {},
     "output_type": "execute_result"
    }
   ],
   "source": [
    "import pyLDAvis.gensim_models\n",
    "\n",
    "pyLDAvis.enable_notebook()\n",
    "\n",
    "vis = pyLDAvis.gensim_models.prepare(tweets_lda, tweets_bow, dictionary=tweets_lda.id2word)\n",
    "vis"
   ]
  },
  {
   "cell_type": "markdown",
   "id": "802b99cc",
   "metadata": {},
   "source": [
    "Since the interacting pyLDAvis visualization doesn't work on Github, adding demo screenshots here for 2/4 topics.\n",
    "\n",
    "<img src=\"figures/figure_1.png\">\n",
    "<img src=\"figures/figure_2.png\">"
   ]
  },
  {
   "cell_type": "markdown",
   "id": "c0862ea1",
   "metadata": {},
   "source": [
    "### Initial impressions:\n",
    "\n",
    "- 3/4 topics seem to have a distinct meaning (topic 1 - crypto and blockchain in india, topic 2 - covid19 and fintech, topic 3 - traveltech including space travel).\n",
    "- Travel tech seems to be surprising, because not much travel has happened in 2020. This needs to be investigated further."
   ]
  },
  {
   "cell_type": "code",
   "execution_count": null,
   "id": "9a543373",
   "metadata": {},
   "outputs": [],
   "source": []
  }
 ],
 "metadata": {
  "kernelspec": {
   "display_name": "Python 3",
   "language": "python",
   "name": "python3"
  },
  "language_info": {
   "codemirror_mode": {
    "name": "ipython",
    "version": 3
   },
   "file_extension": ".py",
   "mimetype": "text/x-python",
   "name": "python",
   "nbconvert_exporter": "python",
   "pygments_lexer": "ipython3",
   "version": "3.9.1"
  }
 },
 "nbformat": 4,
 "nbformat_minor": 5
}
